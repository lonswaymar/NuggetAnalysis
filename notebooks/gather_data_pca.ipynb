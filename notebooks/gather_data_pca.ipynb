{
 "cells": [
  {
   "cell_type": "code",
   "execution_count": 1,
   "id": "10b4b567-e871-482b-a8bb-6482974945aa",
   "metadata": {
    "tags": []
   },
   "outputs": [],
   "source": [
    "import pandas as pd\n",
    "import seaborn as sns\n",
    "import matplotlib.pyplot as plt\n",
    "import numpy as np\n",
    "import requests as re\n",
    "from tqdm import tqdm\n",
    "import time\n",
    "\n",
    "import nba_api\n",
    "from nba_api.live.nba.endpoints import scoreboard\n",
    "from nba_api.stats.endpoints import playercareerstats\n",
    "from nba_api.stats.static import players\n",
    "\n",
    "from sklearn.cluster import KMeans\n",
    "from sklearn.preprocessing import StandardScaler\n",
    "\n",
    "from mar_designs import tidy_axes"
   ]
  },
  {
   "cell_type": "code",
   "execution_count": 2,
   "id": "55ee4317-60b9-46bd-beb2-9ccffff621ec",
   "metadata": {
    "tags": []
   },
   "outputs": [],
   "source": [
    "# Variables for the notebook\n",
    "facecolor = \"#F7F5F2\"\n",
    "figsize=(11,6)\n",
    "subplotFigsize=(28,6)\n",
    "titlesize=16\n",
    "labelsize=14\n",
    "\n",
    "pd.set_option('display.max_columns', None)"
   ]
  },
  {
   "cell_type": "markdown",
   "id": "9c5e3146-a31d-47d9-a33e-fe0f3e75c9bd",
   "metadata": {
    "tags": []
   },
   "source": [
    "## Look at all endpoints in nba_api.stats"
   ]
  },
  {
   "cell_type": "code",
   "execution_count": 3,
   "id": "d491f1a6-1574-4451-a493-8ffc78816aaf",
   "metadata": {
    "tags": []
   },
   "outputs": [
    {
     "name": "stdout",
     "output_type": "stream",
     "text": [
      "Help on package nba_api.stats.endpoints in nba_api.stats:\n",
      "\n",
      "NAME\n",
      "    nba_api.stats.endpoints\n",
      "\n",
      "PACKAGE CONTENTS\n",
      "    _base\n",
      "    alltimeleadersgrids\n",
      "    assistleaders\n",
      "    assisttracker\n",
      "    boxscoreadvancedv2\n",
      "    boxscoreadvancedv3\n",
      "    boxscoredefensivev2\n",
      "    boxscorefourfactorsv2\n",
      "    boxscorefourfactorsv3\n",
      "    boxscorehustlev2\n",
      "    boxscorematchupsv3\n",
      "    boxscoremiscv2\n",
      "    boxscoremiscv3\n",
      "    boxscoreplayertrackv2\n",
      "    boxscoreplayertrackv3\n",
      "    boxscorescoringv2\n",
      "    boxscorescoringv3\n",
      "    boxscoresummaryv2\n",
      "    boxscoretraditionalv2\n",
      "    boxscoretraditionalv3\n",
      "    boxscoreusagev2\n",
      "    boxscoreusagev3\n",
      "    commonallplayers\n",
      "    commonplayerinfo\n",
      "    commonplayoffseries\n",
      "    commonteamroster\n",
      "    commonteamyears\n",
      "    cumestatsplayer\n",
      "    cumestatsplayergames\n",
      "    cumestatsteam\n",
      "    cumestatsteamgames\n",
      "    defensehub\n",
      "    draftboard\n",
      "    draftcombinedrillresults\n",
      "    draftcombinenonstationaryshooting\n",
      "    draftcombineplayeranthro\n",
      "    draftcombinespotshooting\n",
      "    draftcombinestats\n",
      "    drafthistory\n",
      "    fantasywidget\n",
      "    franchisehistory\n",
      "    franchiseleaders\n",
      "    franchiseplayers\n",
      "    gamerotation\n",
      "    glalumboxscoresimilarityscore\n",
      "    homepageleaders\n",
      "    homepagev2\n",
      "    hustlestatsboxscore\n",
      "    infographicfanduelplayer\n",
      "    iststandings\n",
      "    leaderstiles\n",
      "    leaguedashlineups\n",
      "    leaguedashoppptshot\n",
      "    leaguedashplayerbiostats\n",
      "    leaguedashplayerclutch\n",
      "    leaguedashplayerptshot\n",
      "    leaguedashplayershotlocations\n",
      "    leaguedashplayerstats\n",
      "    leaguedashptdefend\n",
      "    leaguedashptstats\n",
      "    leaguedashptteamdefend\n",
      "    leaguedashteamclutch\n",
      "    leaguedashteamptshot\n",
      "    leaguedashteamshotlocations\n",
      "    leaguedashteamstats\n",
      "    leaguegamefinder\n",
      "    leaguegamelog\n",
      "    leaguehustlestatsplayer\n",
      "    leaguehustlestatsteam\n",
      "    leagueleaders\n",
      "    leaguelineupviz\n",
      "    leagueplayerondetails\n",
      "    leagueseasonmatchups\n",
      "    leaguestandings\n",
      "    leaguestandingsv3\n",
      "    matchupsrollup\n",
      "    playbyplay\n",
      "    playbyplayv2\n",
      "    playbyplayv3\n",
      "    playerawards\n",
      "    playercareerbycollege\n",
      "    playercareerbycollegerollup\n",
      "    playercareerstats\n",
      "    playercompare\n",
      "    playerdashboardbyclutch\n",
      "    playerdashboardbygamesplits\n",
      "    playerdashboardbygeneralsplits\n",
      "    playerdashboardbylastngames\n",
      "    playerdashboardbyshootingsplits\n",
      "    playerdashboardbyteamperformance\n",
      "    playerdashboardbyyearoveryear\n",
      "    playerdashptpass\n",
      "    playerdashptreb\n",
      "    playerdashptshotdefend\n",
      "    playerdashptshots\n",
      "    playerestimatedmetrics\n",
      "    playerfantasyprofile\n",
      "    playerfantasyprofilebargraph\n",
      "    playergamelog\n",
      "    playergamelogs\n",
      "    playergamestreakfinder\n",
      "    playerindex\n",
      "    playernextngames\n",
      "    playerprofilev2\n",
      "    playervsplayer\n",
      "    playoffpicture\n",
      "    scoreboardv2\n",
      "    shotchartdetail\n",
      "    shotchartleaguewide\n",
      "    shotchartlineupdetail\n",
      "    synergyplaytypes\n",
      "    teamandplayersvsplayers\n",
      "    teamdashboardbygeneralsplits\n",
      "    teamdashboardbyshootingsplits\n",
      "    teamdashlineups\n",
      "    teamdashptpass\n",
      "    teamdashptreb\n",
      "    teamdashptshots\n",
      "    teamdetails\n",
      "    teamestimatedmetrics\n",
      "    teamgamelog\n",
      "    teamgamelogs\n",
      "    teamgamestreakfinder\n",
      "    teamhistoricalleaders\n",
      "    teaminfocommon\n",
      "    teamplayerdashboard\n",
      "    teamplayeronoffdetails\n",
      "    teamplayeronoffsummary\n",
      "    teamvsplayer\n",
      "    teamyearbyyearstats\n",
      "    videodetails\n",
      "    videodetailsasset\n",
      "    videoevents\n",
      "    videoeventsasset\n",
      "    videostatus\n",
      "    winprobabilitypbp\n",
      "\n",
      "DATA\n",
      "    __all__ = ['alltimeleadersgrids', 'assistleaders', 'assisttracker', 'b...\n",
      "\n",
      "FILE\n",
      "    c:\\users\\lons886\\appdata\\roaming\\python\\python311\\site-packages\\nba_api\\stats\\endpoints\\__init__.py\n",
      "\n",
      "\n"
     ]
    }
   ],
   "source": [
    "help(nba_api.stats.endpoints)"
   ]
  },
  {
   "cell_type": "markdown",
   "id": "c1fa28c0-15c9-4958-a61a-8d386a308ed9",
   "metadata": {},
   "source": [
    "## $\\bf{All\\space time\\space leaders}$ endpoint"
   ]
  },
  {
   "cell_type": "code",
   "execution_count": 4,
   "id": "bfbd7629-2899-490e-9b49-112119eb662c",
   "metadata": {
    "tags": []
   },
   "outputs": [],
   "source": [
    "import nba_api.stats.endpoints.alltimeleadersgrids as atlg"
   ]
  },
  {
   "cell_type": "code",
   "execution_count": 5,
   "id": "77a8f661-f7a4-4446-9b10-1f52adce855e",
   "metadata": {
    "tags": []
   },
   "outputs": [],
   "source": [
    "# Request endpoint and get data into a large dictionary\n",
    "allTimes = atlg.AllTimeLeadersGrids()\n",
    "data = allTimes.get_dict()"
   ]
  },
  {
   "cell_type": "code",
   "execution_count": 6,
   "id": "4d31ec9a-cd5f-4c54-8b7f-74a514b33c6d",
   "metadata": {
    "tags": []
   },
   "outputs": [
    {
     "name": "stdout",
     "output_type": "stream",
     "text": [
      "0 GPLeaders\n",
      "1 PTSLeaders\n",
      "2 ASTLeaders\n",
      "3 STLLeaders\n",
      "4 OREBLeaders\n",
      "5 DREBLeaders\n",
      "6 REBLeaders\n",
      "7 BLKLeaders\n",
      "8 FGMLeaders\n",
      "9 FGALeaders\n",
      "10 FG_PCTLeaders\n",
      "11 TOVLeaders\n",
      "12 FG3MLeaders\n",
      "13 FG3ALeaders\n",
      "14 FG3_PCTLeaders\n",
      "15 PFLeaders\n",
      "16 FTMLeaders\n",
      "17 FTALeaders\n",
      "18 FT_PCTLeaders\n"
     ]
    }
   ],
   "source": [
    "# Print categories of leaders\n",
    "allTimeDicts = data[\"resultSets\"]\n",
    "for i, d in enumerate(allTimeDicts):\n",
    "    print(i, d[\"name\"])"
   ]
  },
  {
   "cell_type": "code",
   "execution_count": 7,
   "id": "74ab79c2-b44e-4200-a2ad-684059be882d",
   "metadata": {
    "tags": []
   },
   "outputs": [
    {
     "data": {
      "text/plain": [
       "{'name': 'PTSLeaders',\n",
       " 'headers': ['PLAYER_ID', 'PLAYER_NAME', 'PTS', 'PTS_RANK', 'IS_ACTIVE_FLAG'],\n",
       " 'rowSet': [[2544, 'LeBron James', 41995, 1, 'Y'],\n",
       "  [76003, 'Kareem Abdul-Jabbar', 38387, 2, 'N'],\n",
       "  [252, 'Karl Malone', 36928, 3, 'N'],\n",
       "  [977, 'Kobe Bryant', 33643, 4, 'N'],\n",
       "  [893, 'Michael Jordan', 32292, 5, 'N'],\n",
       "  [1717, 'Dirk Nowitzki', 31560, 6, 'N'],\n",
       "  [76375, 'Wilt Chamberlain', 31419, 7, 'N'],\n",
       "  [201142, 'Kevin Durant', 30537, 8, 'Y'],\n",
       "  [406, \"Shaquille O'Neal\", 28596, 9, 'N'],\n",
       "  [2546, 'Carmelo Anthony', 28289, 10, 'N']]}"
      ]
     },
     "execution_count": 7,
     "metadata": {},
     "output_type": "execute_result"
    }
   ],
   "source": [
    "# Points scored\n",
    "pointsLeadersIDs = [l[0] for l in allTimeDicts[1][\"rowSet\"]]\n",
    "\n",
    "allTimeDicts[1]"
   ]
  },
  {
   "cell_type": "code",
   "execution_count": 8,
   "id": "3ff4246f-2003-41dc-9fd6-e095e22f772d",
   "metadata": {
    "tags": []
   },
   "outputs": [
    {
     "data": {
      "text/plain": [
       "{'name': 'ASTLeaders',\n",
       " 'headers': ['PLAYER_ID', 'PLAYER_NAME', 'AST', 'AST_RANK', 'IS_ACTIVE_FLAG'],\n",
       " 'rowSet': [[304, 'John Stockton', 15806, 1, 'N'],\n",
       "  [101108, 'Chris Paul', 12444, 2, 'Y'],\n",
       "  [467, 'Jason Kidd', 12091, 3, 'N'],\n",
       "  [2544, 'LeBron James', 11534, 4, 'Y'],\n",
       "  [959, 'Steve Nash', 10335, 5, 'N'],\n",
       "  [349, 'Mark Jackson', 10334, 6, 'N'],\n",
       "  [77142, 'Magic Johnson', 10141, 7, 'N'],\n",
       "  [600015, 'Oscar Robertson', 9887, 8, 'N'],\n",
       "  [201566, 'Russell Westbrook', 9885, 9, 'Y'],\n",
       "  [78318, 'Isiah Thomas', 9061, 10, 'N']]}"
      ]
     },
     "execution_count": 8,
     "metadata": {},
     "output_type": "execute_result"
    }
   ],
   "source": [
    "# Assists made\n",
    "assistsLeadersIDs = [l[0] for l in allTimeDicts[2][\"rowSet\"]]\n",
    "\n",
    "allTimeDicts[2]"
   ]
  },
  {
   "cell_type": "code",
   "execution_count": 9,
   "id": "4e6b90b0-e196-4c78-8d7f-35d449a3a4ca",
   "metadata": {
    "tags": []
   },
   "outputs": [],
   "source": [
    "# Merge lists and remove duplicates\n",
    "leaderIDs = list(set(assistsLeadersIDs + pointsLeadersIDs))"
   ]
  },
  {
   "cell_type": "code",
   "execution_count": 10,
   "id": "722dc717-2e6c-4ef5-8efc-da29fa1599c5",
   "metadata": {
    "tags": []
   },
   "outputs": [
    {
     "data": {
      "text/plain": [
       "{'name': 'REBLeaders',\n",
       " 'headers': ['PLAYER_ID', 'PLAYER_NAME', 'REB', 'REB_RANK', 'IS_ACTIVE_FLAG'],\n",
       " 'rowSet': [[76375, 'Wilt Chamberlain', 23924, 1, 'N'],\n",
       "  [78049, 'Bill Russell', 21620, 2, 'N'],\n",
       "  [76003, 'Kareem Abdul-Jabbar', 17440, 3, 'N'],\n",
       "  [76979, 'Elvin Hayes', 16279, 4, 'N'],\n",
       "  [77449, 'Moses Malone', 16212, 5, 'N'],\n",
       "  [1495, 'Tim Duncan', 15091, 6, 'N'],\n",
       "  [252, 'Karl Malone', 14968, 7, 'N'],\n",
       "  [305, 'Robert Parish', 14715, 8, 'N'],\n",
       "  [708, 'Kevin Garnett', 14662, 9, 'N'],\n",
       "  [2730, 'Dwight Howard', 14627, 10, 'N']]}"
      ]
     },
     "execution_count": 10,
     "metadata": {},
     "output_type": "execute_result"
    }
   ],
   "source": [
    "# Rebound leaders\n",
    "allTimeDicts[6]"
   ]
  },
  {
   "cell_type": "code",
   "execution_count": 11,
   "id": "9350d298-806b-4f7e-acc7-9683af01052e",
   "metadata": {
    "tags": []
   },
   "outputs": [
    {
     "data": {
      "text/plain": [
       "{'name': 'FGMLeaders',\n",
       " 'headers': ['PLAYER_ID', 'PLAYER_NAME', 'FGM', 'FGM_RANK', 'IS_ACTIVE_FLAG'],\n",
       " 'rowSet': [[76003, 'Kareem Abdul-Jabbar', 15837, 1, 'N'],\n",
       "  [2544, 'LeBron James', 15420, 2, 'Y'],\n",
       "  [252, 'Karl Malone', 13528, 3, 'N'],\n",
       "  [76375, 'Wilt Chamberlain', 12681, 4, 'N'],\n",
       "  [893, 'Michael Jordan', 12192, 5, 'N'],\n",
       "  [977, 'Kobe Bryant', 11719, 6, 'N'],\n",
       "  [406, \"Shaquille O'Neal\", 11330, 7, 'N'],\n",
       "  [1717, 'Dirk Nowitzki', 11169, 8, 'N'],\n",
       "  [76979, 'Elvin Hayes', 10976, 9, 'N'],\n",
       "  [165, 'Hakeem Olajuwon', 10749, 10, 'N']]}"
      ]
     },
     "execution_count": 11,
     "metadata": {},
     "output_type": "execute_result"
    }
   ],
   "source": [
    "# Field goals made leaders\n",
    "allTimeDicts[8]"
   ]
  },
  {
   "cell_type": "markdown",
   "id": "cdf7cc47-5b61-48d3-9a94-194d6bcb3d1e",
   "metadata": {},
   "source": [
    "## Use $\\bf{common\\space all\\space players}$ endpoint to get IDs of all active players"
   ]
  },
  {
   "cell_type": "code",
   "execution_count": 12,
   "id": "ff6b2e4f-2b66-4795-b5b2-be602fb73cc3",
   "metadata": {},
   "outputs": [],
   "source": [
    "from nba_api.stats.endpoints import commonallplayers as cap"
   ]
  },
  {
   "cell_type": "code",
   "execution_count": 13,
   "id": "fc44c95f-21f1-47cd-a8a1-c48641ce235d",
   "metadata": {
    "tags": []
   },
   "outputs": [],
   "source": [
    "allPlayers = cap.CommonAllPlayers()\n",
    "data = allPlayers.get_dict()"
   ]
  },
  {
   "cell_type": "code",
   "execution_count": 14,
   "id": "b6d8614c-531c-47aa-ac16-4f68511b978d",
   "metadata": {
    "tags": []
   },
   "outputs": [],
   "source": [
    "activePlayerIDs = []\n",
    "allPlayers = data[\"resultSets\"][0]\n",
    "for i, playerRow in enumerate(allPlayers[\"rowSet\"]):\n",
    "    \n",
    "    # Check that they're active\n",
    "    if playerRow[5] == \"2024\":\n",
    "        # print(i, playerRow)\n",
    "        activePlayerIDs.append(playerRow[0])"
   ]
  },
  {
   "cell_type": "code",
   "execution_count": 15,
   "id": "852ad79d-fe59-4a58-9242-8206fc943578",
   "metadata": {
    "tags": []
   },
   "outputs": [
    {
     "data": {
      "text/plain": [
       "19"
      ]
     },
     "execution_count": 15,
     "metadata": {},
     "output_type": "execute_result"
    }
   ],
   "source": [
    "# Remove players IDs from activePlayerIDs if they're in leadersIDs\n",
    "activePlayerIDs2 = list(set(activePlayerIDs) - set(leaderIDs))\n",
    "len(leaderIDs)"
   ]
  },
  {
   "cell_type": "code",
   "execution_count": null,
   "id": "88c400ea-59ff-4392-9234-18d0ffa31693",
   "metadata": {
    "tags": []
   },
   "outputs": [],
   "source": []
  },
  {
   "cell_type": "markdown",
   "id": "030eaeb2-7d02-427e-b2e8-c65985531dbf",
   "metadata": {},
   "source": [
    "## Now that I have two lists: `activePlayerIDs2` and  `leaderIDs`, I can see if there are groupings based on points versus assists using $\\bf{player\\space career\\space stats}$ endpoint."
   ]
  },
  {
   "cell_type": "code",
   "execution_count": 16,
   "id": "cb3ee192-7d9b-4fba-8d6b-fb15322ae8da",
   "metadata": {
    "tags": []
   },
   "outputs": [
    {
     "name": "stdout",
     "output_type": "stream",
     "text": [
      "0\n",
      "1\n",
      "2\n",
      "3\n",
      "4\n",
      "5\n",
      "6\n",
      "7\n",
      "8\n",
      "9\n",
      "10\n",
      "11\n",
      "12\n",
      "13\n",
      "14\n",
      "15\n",
      "16\n",
      "17\n",
      "18\n"
     ]
    }
   ],
   "source": [
    "# Get minutes, points, assists of all in the leadersIDs list\n",
    "minutesPointsAssistsLeaders = []\n",
    "for i, ID in enumerate(leaderIDs):\n",
    "    career = playercareerstats.PlayerCareerStats(player_id=ID) \n",
    "    careerDF = career.get_data_frames()[0]\n",
    "    minutesPointsAssistsLeaders.append(careerDF[[\"MIN\", \"PTS\", \"AST\"]].sum().to_numpy())\n",
    "    time.sleep(10)\n",
    "    print(i)\n"
   ]
  },
  {
   "cell_type": "code",
   "execution_count": 17,
   "id": "a2c73811-1e2c-4e31-a88b-fe3ff602721e",
   "metadata": {
    "tags": []
   },
   "outputs": [
    {
     "data": {
      "text/plain": [
       "893"
      ]
     },
     "execution_count": 17,
     "metadata": {},
     "output_type": "execute_result"
    }
   ],
   "source": [
    "ID"
   ]
  },
  {
   "cell_type": "code",
   "execution_count": 18,
   "id": "3e54d0aa-32b7-4f21-b886-b5cb614a8f17",
   "metadata": {
    "tags": []
   },
   "outputs": [],
   "source": [
    "# Get minutes, points, assists of all active players not in the leadersIDs list\n",
    "allPlayersSimple = players.get_players()\n",
    "\n",
    "for i, ID in enumerate(activePlayerIDs):\n",
    "    career = playercareerstats.PlayerCareerStats(player_id=ID) \n",
    "    dfCareer = career.get_data_frames()[0]\n",
    "    \n",
    "    # Get name of player with ID. If list is empty, pass and move on. \n",
    "    listName = [row[\"full_name\"] for row in allPlayersSimple if row[\"id\"] == ID]\n",
    "    if listName:\n",
    "        name = listName[0].replace(\" \", \"_\")\n",
    "        dfCareer.to_csv(f\"../data/playerCareerStats/{name}.csv\")\n",
    "        \n",
    "    time.sleep(5)\n",
    "\n"
   ]
  },
  {
   "cell_type": "code",
   "execution_count": 19,
   "id": "01153331-8f44-4230-a943-e5329009b253",
   "metadata": {
    "tags": []
   },
   "outputs": [
    {
     "ename": "NameError",
     "evalue": "name 'minutesPointsAssists' is not defined",
     "output_type": "error",
     "traceback": [
      "\u001b[1;31m---------------------------------------------------------------------------\u001b[0m",
      "\u001b[1;31mNameError\u001b[0m                                 Traceback (most recent call last)",
      "Cell \u001b[1;32mIn[19], line 2\u001b[0m\n\u001b[0;32m      1\u001b[0m \u001b[38;5;66;03m# Get points and assists from top 10% of non leaders\u001b[39;00m\n\u001b[1;32m----> 2\u001b[0m minutes \u001b[38;5;241m=\u001b[39m [sublist[\u001b[38;5;241m0\u001b[39m] \u001b[38;5;28;01mfor\u001b[39;00m sublist \u001b[38;5;129;01min\u001b[39;00m minutesPointsAssists]\n\u001b[0;32m      3\u001b[0m threshold \u001b[38;5;241m=\u001b[39m np\u001b[38;5;241m.\u001b[39mpercentile(minutes, \u001b[38;5;241m95\u001b[39m)\n\u001b[0;32m      5\u001b[0m fig, ax \u001b[38;5;241m=\u001b[39m plt\u001b[38;5;241m.\u001b[39msubplots()\n",
      "\u001b[1;31mNameError\u001b[0m: name 'minutesPointsAssists' is not defined"
     ]
    }
   ],
   "source": [
    "# Get points and assists from top 10% of non leaders\n",
    "minutes = [sublist[0] for sublist in minutesPointsAssists]\n",
    "threshold = np.percentile(minutes, 95)\n",
    "\n",
    "fig, ax = plt.subplots()\n",
    "ax.hist(minutes)\n",
    "ax.axvline(threshold, color=\"k\", label=\"90th Percentile\")\n",
    "ax.legend(loc=\"best\")\n",
    "tidy_axes(ax)\n",
    "\n",
    "ax.set_xlabel(\"Minutes Played in Career\", fontsize=14)\n",
    "ax.set_title(\"All Active Players Not in Top 10 Points or Assists\", fontsize=16)\n",
    "fig.set_facecolor(facecolor)\n",
    "ax.set_facecolor(facecolor)\n",
    "plt.savefig(\"../images/minutes_played_all_players.png\")"
   ]
  },
  {
   "cell_type": "code",
   "execution_count": null,
   "id": "bea2c49e-6fd6-42cf-823b-b3a4ca66a12a",
   "metadata": {
    "tags": []
   },
   "outputs": [],
   "source": [
    "\n",
    "\n",
    "top10 = np.array([sublist for sublist in minutesPointsAssists if sublist[0] > threshold])\n",
    "leaders = np.array(minutesPointsAssistsLeaders)\n",
    "fig, ax = plt.subplots()\n",
    "\n",
    "ax.scatter(top10[:,1], top10[:,2], label=\"Non-Leader\")\n",
    "ax.scatter(leaders[:,1], leaders[:,2], label=\"Leader\")\n",
    "tidy_axes(ax)\n",
    "\n",
    "ax.set_xlabel(\"Points\", fontsize=labelsize)\n",
    "ax.set_ylabel(\"Assists\", fontsize=labelsize)\n",
    "ax.set_title(\"Leaders vs. Non Leaders. Not too big of a gap.\", fontsize=titlesize)\n",
    "fig.set_facecolor(facecolor)\n",
    "ax.set_facecolor(facecolor)\n",
    "plt.savefig(\"../images/pts_asts_scatter.png\")\n",
    "plt.show()"
   ]
  },
  {
   "cell_type": "code",
   "execution_count": null,
   "id": "ece976fe-17d1-43cf-a3b8-9306cdaebe6b",
   "metadata": {
    "tags": []
   },
   "outputs": [],
   "source": [
    "pointsArray = np.concatenate((top10[:,1], leaders[:,1]))\n",
    "assistsArray = np.concatenate((top10[:,2], leaders[:,2]))\n",
    "\n",
    "ptsAsts = pd.DataFrame(np.array([pointsArray, assistsArray]).T, columns=[\"Points\", \"Assists\"])\n",
    "\n",
    "# Normalize it\n",
    "scaler = StandardScaler()\n",
    "ptsAsts = pd.DataFrame(scaler.fit_transform(ptsAsts), columns=ptsAsts.columns)\n"
   ]
  },
  {
   "cell_type": "code",
   "execution_count": null,
   "id": "5d6b2621-1a0f-4645-a64f-a246a2f6b173",
   "metadata": {
    "tags": []
   },
   "outputs": [],
   "source": [
    "fig, ax = plt.subplots()\n",
    "\n",
    "\n",
    "kmeans = KMeans(n_clusters=2)\n",
    "kmeans.fit(ptsAsts)\n",
    "\n",
    "ax.scatter(ptsAsts[\"Points\"], ptsAsts[\"Assists\"], c=kmeans.labels_)\n",
    "\n",
    "tidy_axes(ax)\n",
    "ax.set_title(\"KMeans Clustering of Assists vs. Points\", fontsize=titlesize)\n",
    "ax.set_xlabel(\"Points\", fontsize=14)\n",
    "ax.set_ylabel(\"Assists\", fontsize=14)\n",
    "fig.set_facecolor(facecolor)\n",
    "ax.set_facecolor(facecolor)\n",
    "plt.savefig(\"../images/kmeans.png\")\n",
    "plt.show()"
   ]
  },
  {
   "cell_type": "code",
   "execution_count": null,
   "id": "802b5585-756a-4f6c-a2d8-fcc9ca8c0bee",
   "metadata": {
    "tags": []
   },
   "outputs": [],
   "source": [
    "# Today's Score Board\n",
    "games = scoreboard.ScoreBoard()\n",
    "\n",
    "# json\n",
    "games.get_json()\n",
    "\n",
    "# dictionary\n",
    "gameDict = games.get_dict()"
   ]
  },
  {
   "cell_type": "code",
   "execution_count": null,
   "id": "c679b4b5-506f-4d11-94c5-dc50b9b1a218",
   "metadata": {
    "tags": []
   },
   "outputs": [],
   "source": [
    "listOfCurrentGames = gameDict[\"scoreboard\"][\"games\"] # this is a list of dictionaries. each dictionary represents a different game for a given day."
   ]
  },
  {
   "cell_type": "code",
   "execution_count": 155,
   "id": "564fbb07-bb24-4ca1-99c7-175f4dba9cd1",
   "metadata": {
    "tags": []
   },
   "outputs": [
    {
     "ename": "ReadTimeout",
     "evalue": "HTTPSConnectionPool(host='stats.nba.com', port=443): Read timed out. (read timeout=30)",
     "output_type": "error",
     "traceback": [
      "\u001b[1;31m---------------------------------------------------------------------------\u001b[0m",
      "\u001b[1;31mTimeoutError\u001b[0m                              Traceback (most recent call last)",
      "File \u001b[1;32mC:\\ProgramData\\anaconda3\\Lib\\site-packages\\urllib3\\connectionpool.py:466\u001b[0m, in \u001b[0;36mHTTPConnectionPool._make_request\u001b[1;34m(self, conn, method, url, timeout, chunked, **httplib_request_kw)\u001b[0m\n\u001b[0;32m    462\u001b[0m         \u001b[38;5;28;01mexcept\u001b[39;00m \u001b[38;5;167;01mBaseException\u001b[39;00m \u001b[38;5;28;01mas\u001b[39;00m e:\n\u001b[0;32m    463\u001b[0m             \u001b[38;5;66;03m# Remove the TypeError from the exception chain in\u001b[39;00m\n\u001b[0;32m    464\u001b[0m             \u001b[38;5;66;03m# Python 3 (including for exceptions like SystemExit).\u001b[39;00m\n\u001b[0;32m    465\u001b[0m             \u001b[38;5;66;03m# Otherwise it looks like a bug in the code.\u001b[39;00m\n\u001b[1;32m--> 466\u001b[0m             six\u001b[38;5;241m.\u001b[39mraise_from(e, \u001b[38;5;28;01mNone\u001b[39;00m)\n\u001b[0;32m    467\u001b[0m \u001b[38;5;28;01mexcept\u001b[39;00m (SocketTimeout, BaseSSLError, SocketError) \u001b[38;5;28;01mas\u001b[39;00m e:\n",
      "File \u001b[1;32m<string>:3\u001b[0m, in \u001b[0;36mraise_from\u001b[1;34m(value, from_value)\u001b[0m\n",
      "File \u001b[1;32mC:\\ProgramData\\anaconda3\\Lib\\site-packages\\urllib3\\connectionpool.py:461\u001b[0m, in \u001b[0;36mHTTPConnectionPool._make_request\u001b[1;34m(self, conn, method, url, timeout, chunked, **httplib_request_kw)\u001b[0m\n\u001b[0;32m    460\u001b[0m \u001b[38;5;28;01mtry\u001b[39;00m:\n\u001b[1;32m--> 461\u001b[0m     httplib_response \u001b[38;5;241m=\u001b[39m conn\u001b[38;5;241m.\u001b[39mgetresponse()\n\u001b[0;32m    462\u001b[0m \u001b[38;5;28;01mexcept\u001b[39;00m \u001b[38;5;167;01mBaseException\u001b[39;00m \u001b[38;5;28;01mas\u001b[39;00m e:\n\u001b[0;32m    463\u001b[0m     \u001b[38;5;66;03m# Remove the TypeError from the exception chain in\u001b[39;00m\n\u001b[0;32m    464\u001b[0m     \u001b[38;5;66;03m# Python 3 (including for exceptions like SystemExit).\u001b[39;00m\n\u001b[0;32m    465\u001b[0m     \u001b[38;5;66;03m# Otherwise it looks like a bug in the code.\u001b[39;00m\n",
      "File \u001b[1;32mC:\\ProgramData\\anaconda3\\Lib\\http\\client.py:1375\u001b[0m, in \u001b[0;36mHTTPConnection.getresponse\u001b[1;34m(self)\u001b[0m\n\u001b[0;32m   1374\u001b[0m \u001b[38;5;28;01mtry\u001b[39;00m:\n\u001b[1;32m-> 1375\u001b[0m     response\u001b[38;5;241m.\u001b[39mbegin()\n\u001b[0;32m   1376\u001b[0m \u001b[38;5;28;01mexcept\u001b[39;00m \u001b[38;5;167;01mConnectionError\u001b[39;00m:\n",
      "File \u001b[1;32mC:\\ProgramData\\anaconda3\\Lib\\http\\client.py:318\u001b[0m, in \u001b[0;36mHTTPResponse.begin\u001b[1;34m(self)\u001b[0m\n\u001b[0;32m    317\u001b[0m \u001b[38;5;28;01mwhile\u001b[39;00m \u001b[38;5;28;01mTrue\u001b[39;00m:\n\u001b[1;32m--> 318\u001b[0m     version, status, reason \u001b[38;5;241m=\u001b[39m \u001b[38;5;28mself\u001b[39m\u001b[38;5;241m.\u001b[39m_read_status()\n\u001b[0;32m    319\u001b[0m     \u001b[38;5;28;01mif\u001b[39;00m status \u001b[38;5;241m!=\u001b[39m CONTINUE:\n",
      "File \u001b[1;32mC:\\ProgramData\\anaconda3\\Lib\\http\\client.py:279\u001b[0m, in \u001b[0;36mHTTPResponse._read_status\u001b[1;34m(self)\u001b[0m\n\u001b[0;32m    278\u001b[0m \u001b[38;5;28;01mdef\u001b[39;00m \u001b[38;5;21m_read_status\u001b[39m(\u001b[38;5;28mself\u001b[39m):\n\u001b[1;32m--> 279\u001b[0m     line \u001b[38;5;241m=\u001b[39m \u001b[38;5;28mstr\u001b[39m(\u001b[38;5;28mself\u001b[39m\u001b[38;5;241m.\u001b[39mfp\u001b[38;5;241m.\u001b[39mreadline(_MAXLINE \u001b[38;5;241m+\u001b[39m \u001b[38;5;241m1\u001b[39m), \u001b[38;5;124m\"\u001b[39m\u001b[38;5;124miso-8859-1\u001b[39m\u001b[38;5;124m\"\u001b[39m)\n\u001b[0;32m    280\u001b[0m     \u001b[38;5;28;01mif\u001b[39;00m \u001b[38;5;28mlen\u001b[39m(line) \u001b[38;5;241m>\u001b[39m _MAXLINE:\n",
      "File \u001b[1;32mC:\\ProgramData\\anaconda3\\Lib\\socket.py:706\u001b[0m, in \u001b[0;36mSocketIO.readinto\u001b[1;34m(self, b)\u001b[0m\n\u001b[0;32m    705\u001b[0m \u001b[38;5;28;01mtry\u001b[39;00m:\n\u001b[1;32m--> 706\u001b[0m     \u001b[38;5;28;01mreturn\u001b[39;00m \u001b[38;5;28mself\u001b[39m\u001b[38;5;241m.\u001b[39m_sock\u001b[38;5;241m.\u001b[39mrecv_into(b)\n\u001b[0;32m    707\u001b[0m \u001b[38;5;28;01mexcept\u001b[39;00m timeout:\n",
      "File \u001b[1;32mC:\\ProgramData\\anaconda3\\Lib\\ssl.py:1278\u001b[0m, in \u001b[0;36mSSLSocket.recv_into\u001b[1;34m(self, buffer, nbytes, flags)\u001b[0m\n\u001b[0;32m   1275\u001b[0m         \u001b[38;5;28;01mraise\u001b[39;00m \u001b[38;5;167;01mValueError\u001b[39;00m(\n\u001b[0;32m   1276\u001b[0m           \u001b[38;5;124m\"\u001b[39m\u001b[38;5;124mnon-zero flags not allowed in calls to recv_into() on \u001b[39m\u001b[38;5;132;01m%s\u001b[39;00m\u001b[38;5;124m\"\u001b[39m \u001b[38;5;241m%\u001b[39m\n\u001b[0;32m   1277\u001b[0m           \u001b[38;5;28mself\u001b[39m\u001b[38;5;241m.\u001b[39m\u001b[38;5;18m__class__\u001b[39m)\n\u001b[1;32m-> 1278\u001b[0m     \u001b[38;5;28;01mreturn\u001b[39;00m \u001b[38;5;28mself\u001b[39m\u001b[38;5;241m.\u001b[39mread(nbytes, buffer)\n\u001b[0;32m   1279\u001b[0m \u001b[38;5;28;01melse\u001b[39;00m:\n",
      "File \u001b[1;32mC:\\ProgramData\\anaconda3\\Lib\\ssl.py:1134\u001b[0m, in \u001b[0;36mSSLSocket.read\u001b[1;34m(self, len, buffer)\u001b[0m\n\u001b[0;32m   1133\u001b[0m \u001b[38;5;28;01mif\u001b[39;00m buffer \u001b[38;5;129;01mis\u001b[39;00m \u001b[38;5;129;01mnot\u001b[39;00m \u001b[38;5;28;01mNone\u001b[39;00m:\n\u001b[1;32m-> 1134\u001b[0m     \u001b[38;5;28;01mreturn\u001b[39;00m \u001b[38;5;28mself\u001b[39m\u001b[38;5;241m.\u001b[39m_sslobj\u001b[38;5;241m.\u001b[39mread(\u001b[38;5;28mlen\u001b[39m, buffer)\n\u001b[0;32m   1135\u001b[0m \u001b[38;5;28;01melse\u001b[39;00m:\n",
      "\u001b[1;31mTimeoutError\u001b[0m: The read operation timed out",
      "\nDuring handling of the above exception, another exception occurred:\n",
      "\u001b[1;31mReadTimeoutError\u001b[0m                          Traceback (most recent call last)",
      "File \u001b[1;32m~\\AppData\\Roaming\\Python\\Python311\\site-packages\\requests\\adapters.py:667\u001b[0m, in \u001b[0;36mHTTPAdapter.send\u001b[1;34m(self, request, stream, timeout, verify, cert, proxies)\u001b[0m\n\u001b[0;32m    666\u001b[0m \u001b[38;5;28;01mtry\u001b[39;00m:\n\u001b[1;32m--> 667\u001b[0m     resp \u001b[38;5;241m=\u001b[39m conn\u001b[38;5;241m.\u001b[39murlopen(\n\u001b[0;32m    668\u001b[0m         method\u001b[38;5;241m=\u001b[39mrequest\u001b[38;5;241m.\u001b[39mmethod,\n\u001b[0;32m    669\u001b[0m         url\u001b[38;5;241m=\u001b[39murl,\n\u001b[0;32m    670\u001b[0m         body\u001b[38;5;241m=\u001b[39mrequest\u001b[38;5;241m.\u001b[39mbody,\n\u001b[0;32m    671\u001b[0m         headers\u001b[38;5;241m=\u001b[39mrequest\u001b[38;5;241m.\u001b[39mheaders,\n\u001b[0;32m    672\u001b[0m         redirect\u001b[38;5;241m=\u001b[39m\u001b[38;5;28;01mFalse\u001b[39;00m,\n\u001b[0;32m    673\u001b[0m         assert_same_host\u001b[38;5;241m=\u001b[39m\u001b[38;5;28;01mFalse\u001b[39;00m,\n\u001b[0;32m    674\u001b[0m         preload_content\u001b[38;5;241m=\u001b[39m\u001b[38;5;28;01mFalse\u001b[39;00m,\n\u001b[0;32m    675\u001b[0m         decode_content\u001b[38;5;241m=\u001b[39m\u001b[38;5;28;01mFalse\u001b[39;00m,\n\u001b[0;32m    676\u001b[0m         retries\u001b[38;5;241m=\u001b[39m\u001b[38;5;28mself\u001b[39m\u001b[38;5;241m.\u001b[39mmax_retries,\n\u001b[0;32m    677\u001b[0m         timeout\u001b[38;5;241m=\u001b[39mtimeout,\n\u001b[0;32m    678\u001b[0m         chunked\u001b[38;5;241m=\u001b[39mchunked,\n\u001b[0;32m    679\u001b[0m     )\n\u001b[0;32m    681\u001b[0m \u001b[38;5;28;01mexcept\u001b[39;00m (ProtocolError, \u001b[38;5;167;01mOSError\u001b[39;00m) \u001b[38;5;28;01mas\u001b[39;00m err:\n",
      "File \u001b[1;32mC:\\ProgramData\\anaconda3\\Lib\\site-packages\\urllib3\\connectionpool.py:798\u001b[0m, in \u001b[0;36mHTTPConnectionPool.urlopen\u001b[1;34m(self, method, url, body, headers, retries, redirect, assert_same_host, timeout, pool_timeout, release_conn, chunked, body_pos, **response_kw)\u001b[0m\n\u001b[0;32m    796\u001b[0m     e \u001b[38;5;241m=\u001b[39m ProtocolError(\u001b[38;5;124m\"\u001b[39m\u001b[38;5;124mConnection aborted.\u001b[39m\u001b[38;5;124m\"\u001b[39m, e)\n\u001b[1;32m--> 798\u001b[0m retries \u001b[38;5;241m=\u001b[39m retries\u001b[38;5;241m.\u001b[39mincrement(\n\u001b[0;32m    799\u001b[0m     method, url, error\u001b[38;5;241m=\u001b[39me, _pool\u001b[38;5;241m=\u001b[39m\u001b[38;5;28mself\u001b[39m, _stacktrace\u001b[38;5;241m=\u001b[39msys\u001b[38;5;241m.\u001b[39mexc_info()[\u001b[38;5;241m2\u001b[39m]\n\u001b[0;32m    800\u001b[0m )\n\u001b[0;32m    801\u001b[0m retries\u001b[38;5;241m.\u001b[39msleep()\n",
      "File \u001b[1;32mC:\\ProgramData\\anaconda3\\Lib\\site-packages\\urllib3\\util\\retry.py:550\u001b[0m, in \u001b[0;36mRetry.increment\u001b[1;34m(self, method, url, response, error, _pool, _stacktrace)\u001b[0m\n\u001b[0;32m    549\u001b[0m \u001b[38;5;28;01mif\u001b[39;00m read \u001b[38;5;129;01mis\u001b[39;00m \u001b[38;5;28;01mFalse\u001b[39;00m \u001b[38;5;129;01mor\u001b[39;00m \u001b[38;5;129;01mnot\u001b[39;00m \u001b[38;5;28mself\u001b[39m\u001b[38;5;241m.\u001b[39m_is_method_retryable(method):\n\u001b[1;32m--> 550\u001b[0m     \u001b[38;5;28;01mraise\u001b[39;00m six\u001b[38;5;241m.\u001b[39mreraise(\u001b[38;5;28mtype\u001b[39m(error), error, _stacktrace)\n\u001b[0;32m    551\u001b[0m \u001b[38;5;28;01melif\u001b[39;00m read \u001b[38;5;129;01mis\u001b[39;00m \u001b[38;5;129;01mnot\u001b[39;00m \u001b[38;5;28;01mNone\u001b[39;00m:\n",
      "File \u001b[1;32mC:\\ProgramData\\anaconda3\\Lib\\site-packages\\urllib3\\packages\\six.py:770\u001b[0m, in \u001b[0;36mreraise\u001b[1;34m(tp, value, tb)\u001b[0m\n\u001b[0;32m    769\u001b[0m         \u001b[38;5;28;01mraise\u001b[39;00m value\u001b[38;5;241m.\u001b[39mwith_traceback(tb)\n\u001b[1;32m--> 770\u001b[0m     \u001b[38;5;28;01mraise\u001b[39;00m value\n\u001b[0;32m    771\u001b[0m \u001b[38;5;28;01mfinally\u001b[39;00m:\n",
      "File \u001b[1;32mC:\\ProgramData\\anaconda3\\Lib\\site-packages\\urllib3\\connectionpool.py:714\u001b[0m, in \u001b[0;36mHTTPConnectionPool.urlopen\u001b[1;34m(self, method, url, body, headers, retries, redirect, assert_same_host, timeout, pool_timeout, release_conn, chunked, body_pos, **response_kw)\u001b[0m\n\u001b[0;32m    713\u001b[0m \u001b[38;5;66;03m# Make the request on the httplib connection object.\u001b[39;00m\n\u001b[1;32m--> 714\u001b[0m httplib_response \u001b[38;5;241m=\u001b[39m \u001b[38;5;28mself\u001b[39m\u001b[38;5;241m.\u001b[39m_make_request(\n\u001b[0;32m    715\u001b[0m     conn,\n\u001b[0;32m    716\u001b[0m     method,\n\u001b[0;32m    717\u001b[0m     url,\n\u001b[0;32m    718\u001b[0m     timeout\u001b[38;5;241m=\u001b[39mtimeout_obj,\n\u001b[0;32m    719\u001b[0m     body\u001b[38;5;241m=\u001b[39mbody,\n\u001b[0;32m    720\u001b[0m     headers\u001b[38;5;241m=\u001b[39mheaders,\n\u001b[0;32m    721\u001b[0m     chunked\u001b[38;5;241m=\u001b[39mchunked,\n\u001b[0;32m    722\u001b[0m )\n\u001b[0;32m    724\u001b[0m \u001b[38;5;66;03m# If we're going to release the connection in ``finally:``, then\u001b[39;00m\n\u001b[0;32m    725\u001b[0m \u001b[38;5;66;03m# the response doesn't need to know about the connection. Otherwise\u001b[39;00m\n\u001b[0;32m    726\u001b[0m \u001b[38;5;66;03m# it will also try to release it and we'll have a double-release\u001b[39;00m\n\u001b[0;32m    727\u001b[0m \u001b[38;5;66;03m# mess.\u001b[39;00m\n",
      "File \u001b[1;32mC:\\ProgramData\\anaconda3\\Lib\\site-packages\\urllib3\\connectionpool.py:468\u001b[0m, in \u001b[0;36mHTTPConnectionPool._make_request\u001b[1;34m(self, conn, method, url, timeout, chunked, **httplib_request_kw)\u001b[0m\n\u001b[0;32m    467\u001b[0m \u001b[38;5;28;01mexcept\u001b[39;00m (SocketTimeout, BaseSSLError, SocketError) \u001b[38;5;28;01mas\u001b[39;00m e:\n\u001b[1;32m--> 468\u001b[0m     \u001b[38;5;28mself\u001b[39m\u001b[38;5;241m.\u001b[39m_raise_timeout(err\u001b[38;5;241m=\u001b[39me, url\u001b[38;5;241m=\u001b[39murl, timeout_value\u001b[38;5;241m=\u001b[39mread_timeout)\n\u001b[0;32m    469\u001b[0m     \u001b[38;5;28;01mraise\u001b[39;00m\n",
      "File \u001b[1;32mC:\\ProgramData\\anaconda3\\Lib\\site-packages\\urllib3\\connectionpool.py:357\u001b[0m, in \u001b[0;36mHTTPConnectionPool._raise_timeout\u001b[1;34m(self, err, url, timeout_value)\u001b[0m\n\u001b[0;32m    356\u001b[0m \u001b[38;5;28;01mif\u001b[39;00m \u001b[38;5;28misinstance\u001b[39m(err, SocketTimeout):\n\u001b[1;32m--> 357\u001b[0m     \u001b[38;5;28;01mraise\u001b[39;00m ReadTimeoutError(\n\u001b[0;32m    358\u001b[0m         \u001b[38;5;28mself\u001b[39m, url, \u001b[38;5;124m\"\u001b[39m\u001b[38;5;124mRead timed out. (read timeout=\u001b[39m\u001b[38;5;132;01m%s\u001b[39;00m\u001b[38;5;124m)\u001b[39m\u001b[38;5;124m\"\u001b[39m \u001b[38;5;241m%\u001b[39m timeout_value\n\u001b[0;32m    359\u001b[0m     )\n\u001b[0;32m    361\u001b[0m \u001b[38;5;66;03m# See the above comment about EAGAIN in Python 3. In Python 2 we have\u001b[39;00m\n\u001b[0;32m    362\u001b[0m \u001b[38;5;66;03m# to specifically catch it and throw the timeout error\u001b[39;00m\n",
      "\u001b[1;31mReadTimeoutError\u001b[0m: HTTPSConnectionPool(host='stats.nba.com', port=443): Read timed out. (read timeout=30)",
      "\nDuring handling of the above exception, another exception occurred:\n",
      "\u001b[1;31mReadTimeout\u001b[0m                               Traceback (most recent call last)",
      "Cell \u001b[1;32mIn[155], line 2\u001b[0m\n\u001b[0;32m      1\u001b[0m \u001b[38;5;66;03m# Nikola Jokić\u001b[39;00m\n\u001b[1;32m----> 2\u001b[0m career \u001b[38;5;241m=\u001b[39m playercareerstats\u001b[38;5;241m.\u001b[39mPlayerCareerStats(player_id\u001b[38;5;241m=\u001b[39m\u001b[38;5;124m'\u001b[39m\u001b[38;5;124m203999\u001b[39m\u001b[38;5;124m'\u001b[39m) \n\u001b[0;32m      5\u001b[0m \u001b[38;5;66;03m# dictionary\u001b[39;00m\n\u001b[0;32m      6\u001b[0m jk \u001b[38;5;241m=\u001b[39m career\u001b[38;5;241m.\u001b[39mget_data_frames()[\u001b[38;5;241m0\u001b[39m]\n",
      "File \u001b[1;32m~\\AppData\\Roaming\\Python\\Python311\\site-packages\\nba_api\\stats\\endpoints\\playercareerstats.py:315\u001b[0m, in \u001b[0;36mPlayerCareerStats.__init__\u001b[1;34m(self, player_id, per_mode36, league_id_nullable, proxy, headers, timeout, get_request)\u001b[0m\n\u001b[0;32m    309\u001b[0m \u001b[38;5;28mself\u001b[39m\u001b[38;5;241m.\u001b[39mparameters \u001b[38;5;241m=\u001b[39m {\n\u001b[0;32m    310\u001b[0m     \u001b[38;5;124m\"\u001b[39m\u001b[38;5;124mPlayerID\u001b[39m\u001b[38;5;124m\"\u001b[39m: player_id,\n\u001b[0;32m    311\u001b[0m     \u001b[38;5;124m\"\u001b[39m\u001b[38;5;124mPerMode\u001b[39m\u001b[38;5;124m\"\u001b[39m: per_mode36,\n\u001b[0;32m    312\u001b[0m     \u001b[38;5;124m\"\u001b[39m\u001b[38;5;124mLeagueID\u001b[39m\u001b[38;5;124m\"\u001b[39m: league_id_nullable,\n\u001b[0;32m    313\u001b[0m }\n\u001b[0;32m    314\u001b[0m \u001b[38;5;28;01mif\u001b[39;00m get_request:\n\u001b[1;32m--> 315\u001b[0m     \u001b[38;5;28mself\u001b[39m\u001b[38;5;241m.\u001b[39mget_request()\n",
      "File \u001b[1;32m~\\AppData\\Roaming\\Python\\Python311\\site-packages\\nba_api\\stats\\endpoints\\playercareerstats.py:318\u001b[0m, in \u001b[0;36mPlayerCareerStats.get_request\u001b[1;34m(self)\u001b[0m\n\u001b[0;32m    317\u001b[0m \u001b[38;5;28;01mdef\u001b[39;00m \u001b[38;5;21mget_request\u001b[39m(\u001b[38;5;28mself\u001b[39m):\n\u001b[1;32m--> 318\u001b[0m     \u001b[38;5;28mself\u001b[39m\u001b[38;5;241m.\u001b[39mnba_response \u001b[38;5;241m=\u001b[39m NBAStatsHTTP()\u001b[38;5;241m.\u001b[39msend_api_request(\n\u001b[0;32m    319\u001b[0m         endpoint\u001b[38;5;241m=\u001b[39m\u001b[38;5;28mself\u001b[39m\u001b[38;5;241m.\u001b[39mendpoint,\n\u001b[0;32m    320\u001b[0m         parameters\u001b[38;5;241m=\u001b[39m\u001b[38;5;28mself\u001b[39m\u001b[38;5;241m.\u001b[39mparameters,\n\u001b[0;32m    321\u001b[0m         proxy\u001b[38;5;241m=\u001b[39m\u001b[38;5;28mself\u001b[39m\u001b[38;5;241m.\u001b[39mproxy,\n\u001b[0;32m    322\u001b[0m         headers\u001b[38;5;241m=\u001b[39m\u001b[38;5;28mself\u001b[39m\u001b[38;5;241m.\u001b[39mheaders,\n\u001b[0;32m    323\u001b[0m         timeout\u001b[38;5;241m=\u001b[39m\u001b[38;5;28mself\u001b[39m\u001b[38;5;241m.\u001b[39mtimeout,\n\u001b[0;32m    324\u001b[0m     )\n\u001b[0;32m    325\u001b[0m     \u001b[38;5;28mself\u001b[39m\u001b[38;5;241m.\u001b[39mload_response()\n",
      "File \u001b[1;32m~\\AppData\\Roaming\\Python\\Python311\\site-packages\\nba_api\\library\\http.py:160\u001b[0m, in \u001b[0;36mNBAHTTP.send_api_request\u001b[1;34m(self, endpoint, parameters, referer, proxy, headers, timeout, raise_exception_on_error)\u001b[0m\n\u001b[0;32m    157\u001b[0m         \u001b[38;5;28mprint\u001b[39m(\u001b[38;5;124m\"\u001b[39m\u001b[38;5;124mloading from file...\u001b[39m\u001b[38;5;124m\"\u001b[39m)\n\u001b[0;32m    159\u001b[0m \u001b[38;5;28;01mif\u001b[39;00m \u001b[38;5;129;01mnot\u001b[39;00m contents:\n\u001b[1;32m--> 160\u001b[0m     response \u001b[38;5;241m=\u001b[39m \u001b[38;5;28mself\u001b[39m\u001b[38;5;241m.\u001b[39mget_session()\u001b[38;5;241m.\u001b[39mget(\n\u001b[0;32m    161\u001b[0m         url\u001b[38;5;241m=\u001b[39mbase_url,\n\u001b[0;32m    162\u001b[0m         params\u001b[38;5;241m=\u001b[39mparameters,\n\u001b[0;32m    163\u001b[0m         headers\u001b[38;5;241m=\u001b[39mrequest_headers,\n\u001b[0;32m    164\u001b[0m         proxies\u001b[38;5;241m=\u001b[39mproxies,\n\u001b[0;32m    165\u001b[0m         timeout\u001b[38;5;241m=\u001b[39mtimeout,\n\u001b[0;32m    166\u001b[0m     )\n\u001b[0;32m    167\u001b[0m     url \u001b[38;5;241m=\u001b[39m response\u001b[38;5;241m.\u001b[39murl\n\u001b[0;32m    168\u001b[0m     status_code \u001b[38;5;241m=\u001b[39m response\u001b[38;5;241m.\u001b[39mstatus_code\n",
      "File \u001b[1;32m~\\AppData\\Roaming\\Python\\Python311\\site-packages\\requests\\sessions.py:602\u001b[0m, in \u001b[0;36mSession.get\u001b[1;34m(self, url, **kwargs)\u001b[0m\n\u001b[0;32m    594\u001b[0m \u001b[38;5;250m\u001b[39m\u001b[38;5;124mr\u001b[39m\u001b[38;5;124;03m\"\"\"Sends a GET request. Returns :class:`Response` object.\u001b[39;00m\n\u001b[0;32m    595\u001b[0m \n\u001b[0;32m    596\u001b[0m \u001b[38;5;124;03m:param url: URL for the new :class:`Request` object.\u001b[39;00m\n\u001b[0;32m    597\u001b[0m \u001b[38;5;124;03m:param \\*\\*kwargs: Optional arguments that ``request`` takes.\u001b[39;00m\n\u001b[0;32m    598\u001b[0m \u001b[38;5;124;03m:rtype: requests.Response\u001b[39;00m\n\u001b[0;32m    599\u001b[0m \u001b[38;5;124;03m\"\"\"\u001b[39;00m\n\u001b[0;32m    601\u001b[0m kwargs\u001b[38;5;241m.\u001b[39msetdefault(\u001b[38;5;124m\"\u001b[39m\u001b[38;5;124mallow_redirects\u001b[39m\u001b[38;5;124m\"\u001b[39m, \u001b[38;5;28;01mTrue\u001b[39;00m)\n\u001b[1;32m--> 602\u001b[0m \u001b[38;5;28;01mreturn\u001b[39;00m \u001b[38;5;28mself\u001b[39m\u001b[38;5;241m.\u001b[39mrequest(\u001b[38;5;124m\"\u001b[39m\u001b[38;5;124mGET\u001b[39m\u001b[38;5;124m\"\u001b[39m, url, \u001b[38;5;241m*\u001b[39m\u001b[38;5;241m*\u001b[39mkwargs)\n",
      "File \u001b[1;32m~\\AppData\\Roaming\\Python\\Python311\\site-packages\\requests\\sessions.py:589\u001b[0m, in \u001b[0;36mSession.request\u001b[1;34m(self, method, url, params, data, headers, cookies, files, auth, timeout, allow_redirects, proxies, hooks, stream, verify, cert, json)\u001b[0m\n\u001b[0;32m    584\u001b[0m send_kwargs \u001b[38;5;241m=\u001b[39m {\n\u001b[0;32m    585\u001b[0m     \u001b[38;5;124m\"\u001b[39m\u001b[38;5;124mtimeout\u001b[39m\u001b[38;5;124m\"\u001b[39m: timeout,\n\u001b[0;32m    586\u001b[0m     \u001b[38;5;124m\"\u001b[39m\u001b[38;5;124mallow_redirects\u001b[39m\u001b[38;5;124m\"\u001b[39m: allow_redirects,\n\u001b[0;32m    587\u001b[0m }\n\u001b[0;32m    588\u001b[0m send_kwargs\u001b[38;5;241m.\u001b[39mupdate(settings)\n\u001b[1;32m--> 589\u001b[0m resp \u001b[38;5;241m=\u001b[39m \u001b[38;5;28mself\u001b[39m\u001b[38;5;241m.\u001b[39msend(prep, \u001b[38;5;241m*\u001b[39m\u001b[38;5;241m*\u001b[39msend_kwargs)\n\u001b[0;32m    591\u001b[0m \u001b[38;5;28;01mreturn\u001b[39;00m resp\n",
      "File \u001b[1;32m~\\AppData\\Roaming\\Python\\Python311\\site-packages\\requests\\sessions.py:703\u001b[0m, in \u001b[0;36mSession.send\u001b[1;34m(self, request, **kwargs)\u001b[0m\n\u001b[0;32m    700\u001b[0m start \u001b[38;5;241m=\u001b[39m preferred_clock()\n\u001b[0;32m    702\u001b[0m \u001b[38;5;66;03m# Send the request\u001b[39;00m\n\u001b[1;32m--> 703\u001b[0m r \u001b[38;5;241m=\u001b[39m adapter\u001b[38;5;241m.\u001b[39msend(request, \u001b[38;5;241m*\u001b[39m\u001b[38;5;241m*\u001b[39mkwargs)\n\u001b[0;32m    705\u001b[0m \u001b[38;5;66;03m# Total elapsed time of the request (approximately)\u001b[39;00m\n\u001b[0;32m    706\u001b[0m elapsed \u001b[38;5;241m=\u001b[39m preferred_clock() \u001b[38;5;241m-\u001b[39m start\n",
      "File \u001b[1;32m~\\AppData\\Roaming\\Python\\Python311\\site-packages\\requests\\adapters.py:713\u001b[0m, in \u001b[0;36mHTTPAdapter.send\u001b[1;34m(self, request, stream, timeout, verify, cert, proxies)\u001b[0m\n\u001b[0;32m    711\u001b[0m     \u001b[38;5;28;01mraise\u001b[39;00m SSLError(e, request\u001b[38;5;241m=\u001b[39mrequest)\n\u001b[0;32m    712\u001b[0m \u001b[38;5;28;01melif\u001b[39;00m \u001b[38;5;28misinstance\u001b[39m(e, ReadTimeoutError):\n\u001b[1;32m--> 713\u001b[0m     \u001b[38;5;28;01mraise\u001b[39;00m ReadTimeout(e, request\u001b[38;5;241m=\u001b[39mrequest)\n\u001b[0;32m    714\u001b[0m \u001b[38;5;28;01melif\u001b[39;00m \u001b[38;5;28misinstance\u001b[39m(e, _InvalidHeader):\n\u001b[0;32m    715\u001b[0m     \u001b[38;5;28;01mraise\u001b[39;00m InvalidHeader(e, request\u001b[38;5;241m=\u001b[39mrequest)\n",
      "\u001b[1;31mReadTimeout\u001b[0m: HTTPSConnectionPool(host='stats.nba.com', port=443): Read timed out. (read timeout=30)"
     ]
    }
   ],
   "source": [
    "# Nikola Jokić\n",
    "career = playercareerstats.PlayerCareerStats(player_id='203999') \n",
    "\n",
    "\n",
    "# dictionary\n",
    "jk = career.get_data_frames()[0]\n",
    "# jk.to_csv(\"../data/jk_stats.csv\")\n",
    "jk.tail()"
   ]
  },
  {
   "cell_type": "code",
   "execution_count": 150,
   "id": "4606ccc4-9b91-4603-9dbc-c67822513af3",
   "metadata": {
    "tags": []
   },
   "outputs": [
    {
     "name": "stdout",
     "output_type": "stream",
     "text": [
      "[{'id': 201566, 'full_name': 'Russell Westbrook', 'first_name': 'Russell', 'last_name': 'Westbrook', 'is_active': True}]\n"
     ]
    },
    {
     "data": {
      "text/plain": [
       "['Russell Westbrook']"
      ]
     },
     "execution_count": 150,
     "metadata": {},
     "output_type": "execute_result"
    }
   ],
   "source": [
    "# Get all players\n",
    "all_players = players.get_players()\n",
    "\n",
    "# Find Russell Westbrook\n",
    "westbrook = [player for player in all_players if player['full_name'] == \"Russell Westbrook\"]\n",
    "\n",
    "# Display his ID\n",
    "print(westbrook)\n",
    "\n"
   ]
  },
  {
   "cell_type": "code",
   "execution_count": 135,
   "id": "dd7aad06-20c1-420e-ab8f-0628b4bacb28",
   "metadata": {
    "tags": []
   },
   "outputs": [
    {
     "data": {
      "text/html": [
       "<div>\n",
       "<style scoped>\n",
       "    .dataframe tbody tr th:only-of-type {\n",
       "        vertical-align: middle;\n",
       "    }\n",
       "\n",
       "    .dataframe tbody tr th {\n",
       "        vertical-align: top;\n",
       "    }\n",
       "\n",
       "    .dataframe thead th {\n",
       "        text-align: right;\n",
       "    }\n",
       "</style>\n",
       "<table border=\"1\" class=\"dataframe\">\n",
       "  <thead>\n",
       "    <tr style=\"text-align: right;\">\n",
       "      <th></th>\n",
       "      <th>PLAYER_ID</th>\n",
       "      <th>SEASON_ID</th>\n",
       "      <th>LEAGUE_ID</th>\n",
       "      <th>TEAM_ID</th>\n",
       "      <th>TEAM_ABBREVIATION</th>\n",
       "      <th>PLAYER_AGE</th>\n",
       "      <th>GP</th>\n",
       "      <th>GS</th>\n",
       "      <th>MIN</th>\n",
       "      <th>FGM</th>\n",
       "      <th>FGA</th>\n",
       "      <th>FG_PCT</th>\n",
       "      <th>FG3M</th>\n",
       "      <th>FG3A</th>\n",
       "      <th>FG3_PCT</th>\n",
       "      <th>FTM</th>\n",
       "      <th>FTA</th>\n",
       "      <th>FT_PCT</th>\n",
       "      <th>OREB</th>\n",
       "      <th>DREB</th>\n",
       "      <th>REB</th>\n",
       "      <th>AST</th>\n",
       "      <th>STL</th>\n",
       "      <th>BLK</th>\n",
       "      <th>TOV</th>\n",
       "      <th>PF</th>\n",
       "      <th>PTS</th>\n",
       "    </tr>\n",
       "  </thead>\n",
       "  <tbody>\n",
       "    <tr>\n",
       "      <th>14</th>\n",
       "      <td>201566</td>\n",
       "      <td>2022-23</td>\n",
       "      <td>00</td>\n",
       "      <td>1610612747</td>\n",
       "      <td>LAL</td>\n",
       "      <td>34.0</td>\n",
       "      <td>52</td>\n",
       "      <td>3</td>\n",
       "      <td>1491.0</td>\n",
       "      <td>304</td>\n",
       "      <td>729</td>\n",
       "      <td>0.417</td>\n",
       "      <td>63</td>\n",
       "      <td>213</td>\n",
       "      <td>0.296</td>\n",
       "      <td>156</td>\n",
       "      <td>238</td>\n",
       "      <td>0.655</td>\n",
       "      <td>59</td>\n",
       "      <td>262</td>\n",
       "      <td>321</td>\n",
       "      <td>391</td>\n",
       "      <td>53</td>\n",
       "      <td>23</td>\n",
       "      <td>184</td>\n",
       "      <td>121</td>\n",
       "      <td>827</td>\n",
       "    </tr>\n",
       "    <tr>\n",
       "      <th>15</th>\n",
       "      <td>201566</td>\n",
       "      <td>2022-23</td>\n",
       "      <td>00</td>\n",
       "      <td>1610612746</td>\n",
       "      <td>LAC</td>\n",
       "      <td>34.0</td>\n",
       "      <td>21</td>\n",
       "      <td>21</td>\n",
       "      <td>635.0</td>\n",
       "      <td>128</td>\n",
       "      <td>262</td>\n",
       "      <td>0.489</td>\n",
       "      <td>26</td>\n",
       "      <td>73</td>\n",
       "      <td>0.356</td>\n",
       "      <td>50</td>\n",
       "      <td>76</td>\n",
       "      <td>0.658</td>\n",
       "      <td>30</td>\n",
       "      <td>72</td>\n",
       "      <td>102</td>\n",
       "      <td>160</td>\n",
       "      <td>23</td>\n",
       "      <td>10</td>\n",
       "      <td>71</td>\n",
       "      <td>41</td>\n",
       "      <td>332</td>\n",
       "    </tr>\n",
       "    <tr>\n",
       "      <th>16</th>\n",
       "      <td>201566</td>\n",
       "      <td>2022-23</td>\n",
       "      <td>00</td>\n",
       "      <td>0</td>\n",
       "      <td>TOT</td>\n",
       "      <td>34.0</td>\n",
       "      <td>73</td>\n",
       "      <td>24</td>\n",
       "      <td>2126.0</td>\n",
       "      <td>432</td>\n",
       "      <td>991</td>\n",
       "      <td>0.436</td>\n",
       "      <td>89</td>\n",
       "      <td>286</td>\n",
       "      <td>0.311</td>\n",
       "      <td>206</td>\n",
       "      <td>314</td>\n",
       "      <td>0.656</td>\n",
       "      <td>89</td>\n",
       "      <td>334</td>\n",
       "      <td>423</td>\n",
       "      <td>551</td>\n",
       "      <td>76</td>\n",
       "      <td>33</td>\n",
       "      <td>255</td>\n",
       "      <td>162</td>\n",
       "      <td>1159</td>\n",
       "    </tr>\n",
       "    <tr>\n",
       "      <th>17</th>\n",
       "      <td>201566</td>\n",
       "      <td>2023-24</td>\n",
       "      <td>00</td>\n",
       "      <td>1610612746</td>\n",
       "      <td>LAC</td>\n",
       "      <td>35.0</td>\n",
       "      <td>68</td>\n",
       "      <td>11</td>\n",
       "      <td>1529.0</td>\n",
       "      <td>301</td>\n",
       "      <td>663</td>\n",
       "      <td>0.454</td>\n",
       "      <td>42</td>\n",
       "      <td>154</td>\n",
       "      <td>0.273</td>\n",
       "      <td>110</td>\n",
       "      <td>160</td>\n",
       "      <td>0.688</td>\n",
       "      <td>93</td>\n",
       "      <td>250</td>\n",
       "      <td>343</td>\n",
       "      <td>306</td>\n",
       "      <td>74</td>\n",
       "      <td>23</td>\n",
       "      <td>144</td>\n",
       "      <td>121</td>\n",
       "      <td>754</td>\n",
       "    </tr>\n",
       "    <tr>\n",
       "      <th>18</th>\n",
       "      <td>201566</td>\n",
       "      <td>2024-25</td>\n",
       "      <td>00</td>\n",
       "      <td>1610612743</td>\n",
       "      <td>DEN</td>\n",
       "      <td>36.0</td>\n",
       "      <td>48</td>\n",
       "      <td>27</td>\n",
       "      <td>1328.0</td>\n",
       "      <td>235</td>\n",
       "      <td>493</td>\n",
       "      <td>0.477</td>\n",
       "      <td>55</td>\n",
       "      <td>166</td>\n",
       "      <td>0.331</td>\n",
       "      <td>98</td>\n",
       "      <td>153</td>\n",
       "      <td>0.641</td>\n",
       "      <td>66</td>\n",
       "      <td>179</td>\n",
       "      <td>245</td>\n",
       "      <td>307</td>\n",
       "      <td>72</td>\n",
       "      <td>24</td>\n",
       "      <td>146</td>\n",
       "      <td>121</td>\n",
       "      <td>623</td>\n",
       "    </tr>\n",
       "  </tbody>\n",
       "</table>\n",
       "</div>"
      ],
      "text/plain": [
       "    PLAYER_ID SEASON_ID LEAGUE_ID     TEAM_ID TEAM_ABBREVIATION  PLAYER_AGE  \\\n",
       "14     201566   2022-23        00  1610612747               LAL        34.0   \n",
       "15     201566   2022-23        00  1610612746               LAC        34.0   \n",
       "16     201566   2022-23        00           0               TOT        34.0   \n",
       "17     201566   2023-24        00  1610612746               LAC        35.0   \n",
       "18     201566   2024-25        00  1610612743               DEN        36.0   \n",
       "\n",
       "    GP  GS     MIN  FGM  FGA  FG_PCT  FG3M  FG3A  FG3_PCT  FTM  FTA  FT_PCT  \\\n",
       "14  52   3  1491.0  304  729   0.417    63   213    0.296  156  238   0.655   \n",
       "15  21  21   635.0  128  262   0.489    26    73    0.356   50   76   0.658   \n",
       "16  73  24  2126.0  432  991   0.436    89   286    0.311  206  314   0.656   \n",
       "17  68  11  1529.0  301  663   0.454    42   154    0.273  110  160   0.688   \n",
       "18  48  27  1328.0  235  493   0.477    55   166    0.331   98  153   0.641   \n",
       "\n",
       "    OREB  DREB  REB  AST  STL  BLK  TOV   PF   PTS  \n",
       "14    59   262  321  391   53   23  184  121   827  \n",
       "15    30    72  102  160   23   10   71   41   332  \n",
       "16    89   334  423  551   76   33  255  162  1159  \n",
       "17    93   250  343  306   74   23  144  121   754  \n",
       "18    66   179  245  307   72   24  146  121   623  "
      ]
     },
     "execution_count": 135,
     "metadata": {},
     "output_type": "execute_result"
    }
   ],
   "source": [
    "career = playercareerstats.PlayerCareerStats(player_id=\"201566\")\n",
    "wb = career.get_data_frames()[0]\n",
    "wb.tail()"
   ]
  },
  {
   "cell_type": "code",
   "execution_count": 45,
   "id": "f4e8050b-5864-43ed-897c-b408c49d66ca",
   "metadata": {
    "tags": []
   },
   "outputs": [
    {
     "data": {
      "text/html": [
       "<div>\n",
       "<style scoped>\n",
       "    .dataframe tbody tr th:only-of-type {\n",
       "        vertical-align: middle;\n",
       "    }\n",
       "\n",
       "    .dataframe tbody tr th {\n",
       "        vertical-align: top;\n",
       "    }\n",
       "\n",
       "    .dataframe thead th {\n",
       "        text-align: right;\n",
       "    }\n",
       "</style>\n",
       "<table border=\"1\" class=\"dataframe\">\n",
       "  <thead>\n",
       "    <tr style=\"text-align: right;\">\n",
       "      <th></th>\n",
       "      <th>SEASON_ID</th>\n",
       "      <th>TEAM_ABBREVIATION</th>\n",
       "      <th>MIN</th>\n",
       "      <th>PTS</th>\n",
       "      <th>REB</th>\n",
       "      <th>AST</th>\n",
       "    </tr>\n",
       "  </thead>\n",
       "  <tbody>\n",
       "    <tr>\n",
       "      <th>14</th>\n",
       "      <td>2022-23</td>\n",
       "      <td>LAL</td>\n",
       "      <td>1491.0</td>\n",
       "      <td>827</td>\n",
       "      <td>321</td>\n",
       "      <td>391</td>\n",
       "    </tr>\n",
       "    <tr>\n",
       "      <th>15</th>\n",
       "      <td>2022-23</td>\n",
       "      <td>LAC</td>\n",
       "      <td>635.0</td>\n",
       "      <td>332</td>\n",
       "      <td>102</td>\n",
       "      <td>160</td>\n",
       "    </tr>\n",
       "    <tr>\n",
       "      <th>16</th>\n",
       "      <td>2022-23</td>\n",
       "      <td>LAC</td>\n",
       "      <td>2126.0</td>\n",
       "      <td>1159</td>\n",
       "      <td>423</td>\n",
       "      <td>551</td>\n",
       "    </tr>\n",
       "    <tr>\n",
       "      <th>17</th>\n",
       "      <td>2023-24</td>\n",
       "      <td>LAC</td>\n",
       "      <td>1529.0</td>\n",
       "      <td>754</td>\n",
       "      <td>343</td>\n",
       "      <td>306</td>\n",
       "    </tr>\n",
       "    <tr>\n",
       "      <th>18</th>\n",
       "      <td>2024-25</td>\n",
       "      <td>DEN</td>\n",
       "      <td>1328.0</td>\n",
       "      <td>623</td>\n",
       "      <td>245</td>\n",
       "      <td>307</td>\n",
       "    </tr>\n",
       "  </tbody>\n",
       "</table>\n",
       "</div>"
      ],
      "text/plain": [
       "   SEASON_ID TEAM_ABBREVIATION     MIN   PTS  REB  AST\n",
       "14   2022-23               LAL  1491.0   827  321  391\n",
       "15   2022-23               LAC   635.0   332  102  160\n",
       "16   2022-23               LAC  2126.0  1159  423  551\n",
       "17   2023-24               LAC  1529.0   754  343  306\n",
       "18   2024-25               DEN  1328.0   623  245  307"
      ]
     },
     "execution_count": 45,
     "metadata": {},
     "output_type": "execute_result"
    }
   ],
   "source": [
    "# Fix the TOT in TEAM_ABBREVIATION to LAC\n",
    "wb.loc[16, \"TEAM_ABBREVIATION\"] = \"LAC\"\n",
    "wb = wb[[\"SEASON_ID\", \"TEAM_ABBREVIATION\", \"MIN\", \"PTS\", \"REB\", \"AST\"]]\n",
    "\n",
    "# NEED TO FIX THE TOT COLUMN! THIS REPRESENTS THE TOTAL OF LAC AND LAL FOR THE ENTIRE SEASON\n",
    "wb.tail()"
   ]
  },
  {
   "cell_type": "code",
   "execution_count": null,
   "id": "1094ad39-94b4-41c2-8c3e-987427c19a8b",
   "metadata": {
    "tags": []
   },
   "outputs": [],
   "source": [
    "wb.to_csv(\"../data/wb_stats.csv\")"
   ]
  },
  {
   "cell_type": "markdown",
   "id": "8c74aca5-bacd-47cf-a744-0d722742cca7",
   "metadata": {},
   "source": [
    "## Triple double defined as 10 or more in each of these categories: PTS, REB, AST"
   ]
  },
  {
   "cell_type": "code",
   "execution_count": null,
   "id": "dd7d83fe-37ea-4346-9cbd-110ab7c6795e",
   "metadata": {
    "tags": []
   },
   "outputs": [],
   "source": []
  },
  {
   "cell_type": "code",
   "execution_count": 105,
   "id": "ee64b2ab-e16c-4a9c-96d8-c17b3f27987d",
   "metadata": {},
   "outputs": [
    {
     "data": {
      "image/png": "[encoded data removed]",
      "text/plain": [
       "<Figure size 2800x600 with 3 Axes>"
      ]
     },
     "metadata": {},
     "output_type": "display_data"
    }
   ],
   "source": [
    "fig, (ax1, ax2, ax3) = plt.subplots(1,3, figsize=subplotFigsize)\n",
    "fig.set_facecolor(facecolor)\n",
    "ax1.set_facecolor(facecolor)\n",
    "ax2.set_facecolor(facecolor)\n",
    "ax3.set_facecolor(facecolor)\n",
    "tidy_axes(ax1)\n",
    "tidy_axes(ax2)\n",
    "tidy_axes(ax3)\n",
    "\n",
    "\n",
    "years = wb[\"SEASON_ID\"].apply(lambda year: int(year[0:4]))\n",
    "\n",
    "pointsPerMinute = wb[\"PTS\"]/wb[\"MIN\"]\n",
    "reboundsPerMinute = wb[\"REB\"]/wb[\"MIN\"]\n",
    "assistsPerMinute = wb[\"AST\"]/wb[\"MIN\"]\n",
    "\n",
    "sns.scatterplot(x=years, y=pointsPerMinute, hue=wb[\"TEAM_ABBREVIATION\"], s=74, ax=ax1)\n",
    "sns.scatterplot(x=years, y=reboundsPerMinute, hue=wb[\"TEAM_ABBREVIATION\"], s=74, ax=ax2)\n",
    "sns.scatterplot(x=years, y=assistsPerMinute, hue=wb[\"TEAM_ABBREVIATION\"], s=74, ax=ax3)\n",
    "ax1.set_title(\"PTS\", fontsize=18)\n",
    "ax2.set_title(\"REB\", fontsize=18)\n",
    "ax3.set_title(\"AST\", fontsize=18)\n",
    "\n",
    "ax1.legend(frameon=False, fontsize=14)\n",
    "ax2.legend().set_visible(False)\n",
    "ax3.legend().set_visible(False)\n",
    "\n",
    "ax1.set_xlabel(\"SEASON_ID\", fontsize=14)\n",
    "plt.tight_layout(pad=2)\n",
    "\n",
    "plt.savefig(\"../images/wb_stats_per_minute.png\")"
   ]
  },
  {
   "cell_type": "code",
   "execution_count": 106,
   "id": "6ca35871-cac7-4244-9355-c74f683cf3b1",
   "metadata": {
    "tags": []
   },
   "outputs": [
    {
     "data": {
      "image/png": "[encoded data removed]",
      "text/plain": [
       "<Figure size 2800x600 with 3 Axes>"
      ]
     },
     "metadata": {},
     "output_type": "display_data"
    }
   ],
   "source": [
    "fig, (ax1, ax2, ax3) = plt.subplots(1,3, figsize=subplotFigsize)\n",
    "fig.set_facecolor(facecolor)\n",
    "ax1.set_facecolor(facecolor)\n",
    "ax2.set_facecolor(facecolor)\n",
    "ax3.set_facecolor(facecolor)\n",
    "tidy_axes(ax1)\n",
    "tidy_axes(ax2)\n",
    "tidy_axes(ax3)\n",
    "\n",
    "\n",
    "years = jk[\"SEASON_ID\"].apply(lambda year: int(year[0:4]))\n",
    "\n",
    "pointsPerMinute = jk[\"PTS\"]/jk[\"MIN\"]\n",
    "reboundsPerMinute = jk[\"REB\"]/jk[\"MIN\"]\n",
    "assistsPerMinute = jk[\"AST\"]/jk[\"MIN\"]\n",
    "\n",
    "sns.scatterplot(x=years, y=pointsPerMinute, hue=jk[\"TEAM_ABBREVIATION\"], s=74, ax=ax1)\n",
    "sns.scatterplot(x=years, y=reboundsPerMinute, hue=jk[\"TEAM_ABBREVIATION\"], s=74, ax=ax2)\n",
    "sns.scatterplot(x=years, y=assistsPerMinute, hue=jk[\"TEAM_ABBREVIATION\"], s=74, ax=ax3)\n",
    "ax1.set_title(\"PTS\", fontsize=18)\n",
    "ax2.set_title(\"REB\", fontsize=18)\n",
    "ax3.set_title(\"AST\", fontsize=18)\n",
    "\n",
    "ax1.legend(frameon=False, fontsize=14)\n",
    "ax2.legend().set_visible(False)\n",
    "ax3.legend().set_visible(False)\n",
    "\n",
    "ax1.set_xlabel(\"SEASON_ID\", fontsize=14)\n",
    "plt.tight_layout(pad=2)\n",
    "plt.savefig(\"../images/jk_stats_per_minute.png\")"
   ]
  },
  {
   "cell_type": "code",
   "execution_count": null,
   "id": "163ecf57-ef87-4db0-b9d5-a6479bc4e093",
   "metadata": {
    "tags": []
   },
   "outputs": [],
   "source": []
  },
  {
   "cell_type": "code",
   "execution_count": null,
   "id": "2fd7f251-7981-4b5b-bcfe-0a43e55aadff",
   "metadata": {
    "tags": []
   },
   "outputs": [],
   "source": []
  },
  {
   "cell_type": "code",
   "execution_count": null,
   "id": "3403bdf8-1900-4b1b-b88d-b7eb00197b3e",
   "metadata": {
    "tags": []
   },
   "outputs": [],
   "source": []
  },
  {
   "cell_type": "code",
   "execution_count": null,
   "id": "536b221d-2f94-4f28-8ead-54a1e8349306",
   "metadata": {
    "tags": []
   },
   "outputs": [],
   "source": []
  },
  {
   "cell_type": "markdown",
   "id": "5e860d57-2f09-4046-952d-3d4ee9773a88",
   "metadata": {},
   "source": [
    "### Now look at news API"
   ]
  },
  {
   "cell_type": "code",
   "execution_count": 116,
   "id": "0a911153-51fa-4d81-98bb-6b370d87c641",
   "metadata": {
    "tags": []
   },
   "outputs": [],
   "source": [
    "# Get my API key --- get your own plz!\n",
    "with open(\"../../key_for_newsAPI.txt\") as f:\n",
    "    key = f.readlines()[0].strip()"
   ]
  },
  {
   "cell_type": "code",
   "execution_count": 117,
   "id": "6ca90a6f-f5a2-42ff-88af-a14e58a3cd6b",
   "metadata": {
    "tags": []
   },
   "outputs": [
    {
     "data": {
      "text/plain": [
       "<Response [200]>"
      ]
     },
     "execution_count": 117,
     "metadata": {},
     "output_type": "execute_result"
    }
   ],
   "source": [
    "endpoint = \"https://newsapi.org/v2/everything\"\n",
    "query = \"Russell Westbrook\"\n",
    "language = \"en\"\n",
    "\n",
    "url = f\"{endpoint}/?q={query}&language={language}&apiKey={key}\"\n",
    "wbNews = re.get(url)\n",
    "wbNews"
   ]
  },
  {
   "cell_type": "code",
   "execution_count": 118,
   "id": "234ee209-b4b7-47ef-8b3e-ce6b2d99fa79",
   "metadata": {
    "tags": []
   },
   "outputs": [
    {
     "data": {
      "text/plain": [
       "dict_keys(['source', 'author', 'title', 'description', 'url', 'urlToImage', 'publishedAt', 'content'])"
      ]
     },
     "execution_count": 118,
     "metadata": {},
     "output_type": "execute_result"
    }
   ],
   "source": [
    "# Look at possible keys on articles\n",
    "wbNews.json()[\"articles\"][0].keys()"
   ]
  },
  {
   "cell_type": "code",
   "execution_count": 119,
   "id": "9e7e4002-af69-42d3-9547-0425dd501811",
   "metadata": {
    "tags": []
   },
   "outputs": [
    {
     "data": {
      "text/html": [
       "<div>\n",
       "<style scoped>\n",
       "    .dataframe tbody tr th:only-of-type {\n",
       "        vertical-align: middle;\n",
       "    }\n",
       "\n",
       "    .dataframe tbody tr th {\n",
       "        vertical-align: top;\n",
       "    }\n",
       "\n",
       "    .dataframe thead th {\n",
       "        text-align: right;\n",
       "    }\n",
       "</style>\n",
       "<table border=\"1\" class=\"dataframe\">\n",
       "  <thead>\n",
       "    <tr style=\"text-align: right;\">\n",
       "      <th></th>\n",
       "      <th>Source</th>\n",
       "      <th>Title</th>\n",
       "      <th>Description</th>\n",
       "      <th>Published At</th>\n",
       "    </tr>\n",
       "  </thead>\n",
       "  <tbody>\n",
       "    <tr>\n",
       "      <th>0</th>\n",
       "      <td>{'id': 'espn', 'name': 'ESPN'}</td>\n",
       "      <td>Nuggets snap skid but see Westbrook exit early</td>\n",
       "      <td>Nuggets guard Russell Westbrook left Friday ni...</td>\n",
       "      <td>2025-02-01T04:21:47Z</td>\n",
       "    </tr>\n",
       "    <tr>\n",
       "      <th>1</th>\n",
       "      <td>{'id': 'espn', 'name': 'ESPN'}</td>\n",
       "      <td>Jokic, Russ make NBA history with triple-doubles</td>\n",
       "      <td>Denver's Nikola Jokic and Russell Westbrook ma...</td>\n",
       "      <td>2025-01-11T06:13:31Z</td>\n",
       "    </tr>\n",
       "    <tr>\n",
       "      <th>2</th>\n",
       "      <td>{'id': 'bleacher-report', 'name': 'Bleacher Re...</td>\n",
       "      <td>The 5 Most Overrated Trade Targets Ahead of 20...</td>\n",
       "      <td>The 2024-25 campaign could provide us with one...</td>\n",
       "      <td>2025-01-11T12:00:00Z</td>\n",
       "    </tr>\n",
       "    <tr>\n",
       "      <th>3</th>\n",
       "      <td>{'id': None, 'name': 'BBC News'}</td>\n",
       "      <td>Young's buzzer-beater seals win for Atlanta Hawks</td>\n",
       "      <td>Trae Young scores a dramatic buzzer-beater to ...</td>\n",
       "      <td>2025-01-08T07:55:17Z</td>\n",
       "    </tr>\n",
       "    <tr>\n",
       "      <th>4</th>\n",
       "      <td>{'id': 'bleacher-report', 'name': 'Bleacher Re...</td>\n",
       "      <td>Broncos' 2025 Free Agents, Targets and Draft N...</td>\n",
       "      <td>From a big-picture perspective, the Denver Bro...</td>\n",
       "      <td>2025-01-12T21:07:31Z</td>\n",
       "    </tr>\n",
       "  </tbody>\n",
       "</table>\n",
       "</div>"
      ],
      "text/plain": [
       "                                              Source  \\\n",
       "0                     {'id': 'espn', 'name': 'ESPN'}   \n",
       "1                     {'id': 'espn', 'name': 'ESPN'}   \n",
       "2  {'id': 'bleacher-report', 'name': 'Bleacher Re...   \n",
       "3                   {'id': None, 'name': 'BBC News'}   \n",
       "4  {'id': 'bleacher-report', 'name': 'Bleacher Re...   \n",
       "\n",
       "                                               Title  \\\n",
       "0     Nuggets snap skid but see Westbrook exit early   \n",
       "1   Jokic, Russ make NBA history with triple-doubles   \n",
       "2  The 5 Most Overrated Trade Targets Ahead of 20...   \n",
       "3  Young's buzzer-beater seals win for Atlanta Hawks   \n",
       "4  Broncos' 2025 Free Agents, Targets and Draft N...   \n",
       "\n",
       "                                         Description          Published At  \n",
       "0  Nuggets guard Russell Westbrook left Friday ni...  2025-02-01T04:21:47Z  \n",
       "1  Denver's Nikola Jokic and Russell Westbrook ma...  2025-01-11T06:13:31Z  \n",
       "2  The 2024-25 campaign could provide us with one...  2025-01-11T12:00:00Z  \n",
       "3  Trae Young scores a dramatic buzzer-beater to ...  2025-01-08T07:55:17Z  \n",
       "4  From a big-picture perspective, the Denver Bro...  2025-01-12T21:07:31Z  "
      ]
     },
     "execution_count": 119,
     "metadata": {},
     "output_type": "execute_result"
    }
   ],
   "source": [
    "grandList = []\n",
    "for article in wbNews.json()[\"articles\"]:\n",
    "    grandList.append([article[\"source\"], article[\"title\"], article[\"description\"], article[\"publishedAt\"]])\n",
    "\n",
    "df = pd.DataFrame(grandList, columns=[\"Source\", \"Title\", \"Description\", \"Published At\"])\n",
    "df.to_csv(\"WestbrookNews.csv\")\n",
    "df.head()"
   ]
  },
  {
   "cell_type": "code",
   "execution_count": 120,
   "id": "3be3d5b5-1da8-4e9e-811b-47c98f784c9a",
   "metadata": {
    "tags": []
   },
   "outputs": [
    {
     "name": "stdout",
     "output_type": "stream",
     "text": [
      "<class 'pandas.core.frame.DataFrame'>\n",
      "RangeIndex: 100 entries, 0 to 99\n",
      "Data columns (total 4 columns):\n",
      " #   Column        Non-Null Count  Dtype \n",
      "---  ------        --------------  ----- \n",
      " 0   Source        100 non-null    object\n",
      " 1   Title         100 non-null    object\n",
      " 2   Description   100 non-null    object\n",
      " 3   Published At  100 non-null    object\n",
      "dtypes: object(4)\n",
      "memory usage: 3.3+ KB\n"
     ]
    }
   ],
   "source": [
    "# Will need to get more data and filter for LA years\n",
    "df.info()\n",
    "df.to_csv(\"../data/wb_news.csv\")"
   ]
  },
  {
   "cell_type": "markdown",
   "id": "2b79bfb6-d505-4662-a063-add1842a1bec",
   "metadata": {},
   "source": [
    "## GO back to basketball stats -- checkout LeBron"
   ]
  },
  {
   "cell_type": "code",
   "execution_count": 121,
   "id": "25663d0e-8ec7-4400-9a97-61eaf72b8f76",
   "metadata": {
    "tags": []
   },
   "outputs": [
    {
     "name": "stdout",
     "output_type": "stream",
     "text": [
      "[{'id': 2544, 'full_name': 'LeBron James', 'first_name': 'LeBron', 'last_name': 'James', 'is_active': True}]\n"
     ]
    }
   ],
   "source": [
    "# Get all players\n",
    "all_players = players.get_players()\n",
    "\n",
    "# Find Russell Westbrook\n",
    "james = [player for player in all_players if player['full_name'] == \"LeBron James\"]\n",
    "\n",
    "# Display his ID\n",
    "print(james)"
   ]
  },
  {
   "cell_type": "code",
   "execution_count": null,
   "id": "5ee8b332-78fe-46b3-a90d-dc8b1659cd9e",
   "metadata": {
    "tags": []
   },
   "outputs": [],
   "source": []
  },
  {
   "cell_type": "code",
   "execution_count": 23,
   "id": "7ba1e0a7-801d-4c0c-a797-47467ab03643",
   "metadata": {
    "tags": []
   },
   "outputs": [
    {
     "name": "stderr",
     "output_type": "stream",
     "text": [
      "100%|██████████| 544/544 [12:05<00:00,  1.33s/it]\n"
     ]
    }
   ],
   "source": [
    "totalPointsPerYearsInLeague = []\n",
    "totalAssistsPerYearsInLeague = []\n",
    "totalReboundsPerYearsInLeague = []\n",
    "all_IDs = {d[\"id\"]:d[\"full_name\"] for d in all_players if d[\"is_active\"] == True}\n",
    "\n",
    "for player_ID in tqdm(all_IDs.keys()):\n",
    "    career = playercareerstats.PlayerCareerStats(player_id=player_ID)\n",
    "    careerDF = career.get_data_frames()[0]\n",
    "    \n",
    "    totalPoints = careerDF[\"PTS\"].sum()\n",
    "    totalAssists = careerDF[\"AST\"].sum()\n",
    "    totalRebounds = careerDF[\"REB\"].sum()\n",
    "    \n",
    "    totalYears = len(careerDF[\"SEASON_ID\"].unique())\n",
    "    \n",
    "    if totalYears>0:\n",
    "        totalPointsPerYearsInLeague.append(totalPoints/totalYears)\n",
    "        totalAssistsPerYearsInLeague.append(totalAssists/totalYears)\n",
    "        totalReboundsPerYearsInLeague.append(totalRebounds/totalYears)\n",
    "        \n",
    "    time.sleep(1)\n"
   ]
  },
  {
   "cell_type": "code",
   "execution_count": 34,
   "id": "31a2dfe0-fa6e-4ce1-b7e9-8993f20256af",
   "metadata": {
    "tags": []
   },
   "outputs": [],
   "source": [
    "wbRatio = wb[\"PTS\"].sum()/len(wb[\"SEASON_ID\"].unique())\n",
    "ykRatio = jk[\"PTS\"].sum()/len(jk[\"SEASON_ID\"].unique())"
   ]
  },
  {
   "cell_type": "code",
   "execution_count": 104,
   "id": "d0f57513-2c9f-4b6a-a010-43dbd1da876f",
   "metadata": {
    "tags": []
   },
   "outputs": [
    {
     "data": {
      "image/png": "[encoded data removed]",
      "text/plain": [
       "<Figure size 2800x600 with 3 Axes>"
      ]
     },
     "metadata": {},
     "output_type": "display_data"
    }
   ],
   "source": [
    "fig, (ax1, ax2, ax3) = plt.subplots(1,3, figsize=subplotFigsize)\n",
    "fig.set_facecolor(facecolor)\n",
    "ax1.set_facecolor(facecolor)\n",
    "ax2.set_facecolor(facecolor)\n",
    "ax3.set_facecolor(facecolor)\n",
    "\n",
    "tidy_axes(ax1)\n",
    "tidy_axes(ax2)\n",
    "tidy_axes(ax3)\n",
    "\n",
    "ax1.hist(totalPointsPerYearsInLeague, color=\"grey\", bins=20)\n",
    "wbRatio = wb[\"PTS\"].sum()/len(wb[\"SEASON_ID\"].unique())\n",
    "ykRatio = jk[\"PTS\"].sum()/len(jk[\"SEASON_ID\"].unique())\n",
    "ax1.axvline([wbRatio], label=\"Westbrook\", c=\"navy\")\n",
    "ax1.axvline([ykRatio], label=\"Jokic\", c=\"gold\")\n",
    "\n",
    "ax2.hist(totalReboundsPerYearsInLeague, color=\"grey\", bins=20)\n",
    "wbRatio = wb[\"REB\"].sum()/len(wb[\"SEASON_ID\"].unique())\n",
    "ykRatio = jk[\"REB\"].sum()/len(jk[\"SEASON_ID\"].unique())\n",
    "ax2.axvline([wbRatio], label=\"Westbrook\", c=\"navy\")\n",
    "ax2.axvline([ykRatio], label=\"Jokic\", c=\"gold\")\n",
    "\n",
    "\n",
    "ax3.hist(totalAssistsPerYearsInLeague, color=\"grey\", bins=20)\n",
    "wbRatio = wb[\"AST\"].sum()/len(wb[\"SEASON_ID\"].unique())\n",
    "ykRatio = jk[\"AST\"].sum()/len(jk[\"SEASON_ID\"].unique())\n",
    "ax3.axvline([wbRatio], label=\"Westbrook\", c=\"navy\")\n",
    "ax3.axvline([ykRatio], label=\"Jokic\", c=\"gold\")\n",
    "\n",
    "# ax.axvline([wbRatio], label=\"Westbrook\", c=\"navy\")\n",
    "# ax.axvline([ykRatio], label=\"Jokic\", c=\"gold\")\n",
    "\n",
    "ax1.set_xlabel(\"Points\", fontsize=16)\n",
    "ax2.set_xlabel(\"Rebounds\", fontsize=16)\n",
    "ax3.set_xlabel(\"Assists\", fontsize=16)\n",
    "\n",
    "ax1.legend(frameon=False, fontsize=14)\n",
    "ax2.legend().set_visible(False)\n",
    "ax3.legend().set_visible(False)\n",
    "\n",
    "plt.tight_layout(pad=2)\n",
    "plt.savefig(\"../images/stats_in_population.png\")"
   ]
  },
  {
   "cell_type": "code",
   "execution_count": null,
   "id": "a0522d8e-df00-4ddc-bd2c-d328c9a569b4",
   "metadata": {
    "tags": []
   },
   "outputs": [],
   "source": []
  },
  {
   "cell_type": "code",
   "execution_count": 138,
   "id": "71074df9-12e3-4ba4-8022-ac9df50844f0",
   "metadata": {},
   "outputs": [
    {
     "data": {
      "image/png": "[encoded data removed]",
      "text/plain": [
       "<Figure size 1100x600 with 1 Axes>"
      ]
     },
     "metadata": {},
     "output_type": "display_data"
    }
   ],
   "source": [
    "fig, ax = plt.subplots(figsize=figsize)\n",
    "fig.set_facecolor(facecolor)\n",
    "ax.set_facecolor(facecolor)\n",
    "# Extract the starting year of each season\n",
    "years_jk = jk[\"SEASON_ID\"].apply(lambda year: int(year[:4]))\n",
    "years_wb = wb[\"SEASON_ID\"].apply(lambda year: int(year[:4]))\n",
    "\n",
    "# Compute the cumulative sum of contributions per minute\n",
    "jk_cumsum = (jk[\"PTS\"]/jk[\"MIN\"] + jk[\"AST\"]/jk[\"MIN\"] + jk[\"REB\"]/jk[\"MIN\"]).cumsum()\n",
    "wb_cumsum = (wb[\"PTS\"]/wb[\"MIN\"] + wb[\"AST\"]/wb[\"MIN\"] + wb[\"REB\"]/wb[\"MIN\"]).cumsum()\n",
    "\n",
    "# Scatter plot\n",
    "ax.scatter(years_jk, jk_cumsum, label=\"Jokic\", c=\"gold\")\n",
    "ax.scatter(years_wb, wb_cumsum, label=\"Westbrook\", c=\"navy\")\n",
    "ax.set_xlabel(\"Year Played\", fontsize=16)\n",
    "ax.set_title(\"Cumulative Summed PTS, REB, AST over Entire Career\", fontsize=15)\n",
    "tidy_axes(ax)\n",
    "plt.savefig(\"../images/cumulative_stats.png\")"
   ]
  },
  {
   "cell_type": "code",
   "execution_count": 133,
   "id": "f16d41bb-ca55-42bb-a5e6-0bebdbb7af1f",
   "metadata": {
    "tags": []
   },
   "outputs": [
    {
     "data": {
      "text/plain": [
       "0     2008\n",
       "1     2009\n",
       "2     2010\n",
       "3     2011\n",
       "4     2012\n",
       "5     2013\n",
       "6     2014\n",
       "7     2015\n",
       "8     2016\n",
       "9     2017\n",
       "10    2018\n",
       "11    2019\n",
       "12    2020\n",
       "13    2021\n",
       "14    2022\n",
       "15    2022\n",
       "16    2022\n",
       "17    2023\n",
       "18    2024\n",
       "Name: SEASON_ID, dtype: int64"
      ]
     },
     "execution_count": 133,
     "metadata": {},
     "output_type": "execute_result"
    }
   ],
   "source": [
    "years_wb"
   ]
  },
  {
   "cell_type": "code",
   "execution_count": null,
   "id": "736a49e0-2853-4eb6-b52e-1c826b72fc40",
   "metadata": {},
   "outputs": [],
   "source": []
  }
 ],
 "metadata": {
  "kernelspec": {
   "display_name": "Python 3 (ipykernel)",
   "language": "python",
   "name": "python3"
  },
  "language_info": {
   "codemirror_mode": {
    "name": "ipython",
    "version": 3
   },
   "file_extension": ".py",
   "mimetype": "text/x-python",
   "name": "python",
   "nbconvert_exporter": "python",
   "pygments_lexer": "ipython3",
   "version": "3.11.3"
  }
 },
 "nbformat": 4,
 "nbformat_minor": 5
}
