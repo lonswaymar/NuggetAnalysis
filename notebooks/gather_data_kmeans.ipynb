{
 "cells": [
  {
   "cell_type": "code",
   "execution_count": 35,
   "id": "10b4b567-e871-482b-a8bb-6482974945aa",
   "metadata": {
    "tags": []
   },
   "outputs": [],
   "source": [
    "import pandas as pd\n",
    "import seaborn as sns\n",
    "import matplotlib.pyplot as plt\n",
    "import numpy as np\n",
    "import requests as re\n",
    "from tqdm import tqdm\n",
    "import time\n",
    "import os\n",
    "\n",
    "import nba_api\n",
    "from nba_api.live.nba.endpoints import scoreboard\n",
    "from nba_api.stats.endpoints import playercareerstats\n",
    "from nba_api.stats.static import players\n",
    "\n",
    "from sklearn.cluster import KMeans\n",
    "from sklearn.preprocessing import StandardScaler\n",
    "\n",
    "from mar_designs import tidy_axes"
   ]
  },
  {
   "cell_type": "code",
   "execution_count": 2,
   "id": "55ee4317-60b9-46bd-beb2-9ccffff621ec",
   "metadata": {
    "tags": []
   },
   "outputs": [],
   "source": [
    "# Variables for the notebook\n",
    "facecolor = \"#F7F5F2\"\n",
    "figsize=(11,6)\n",
    "subplotFigsize=(28,6)\n",
    "titlesize=16\n",
    "labelsize=14\n",
    "\n",
    "pd.set_option('display.max_columns', None)"
   ]
  },
  {
   "cell_type": "markdown",
   "id": "9c5e3146-a31d-47d9-a33e-fe0f3e75c9bd",
   "metadata": {
    "tags": []
   },
   "source": [
    "## Look at all endpoints in nba_api.stats"
   ]
  },
  {
   "cell_type": "code",
   "execution_count": 3,
   "id": "d491f1a6-1574-4451-a493-8ffc78816aaf",
   "metadata": {
    "tags": []
   },
   "outputs": [
    {
     "name": "stdout",
     "output_type": "stream",
     "text": [
      "Help on package nba_api.stats.endpoints in nba_api.stats:\n",
      "\n",
      "NAME\n",
      "    nba_api.stats.endpoints\n",
      "\n",
      "PACKAGE CONTENTS\n",
      "    _base\n",
      "    alltimeleadersgrids\n",
      "    assistleaders\n",
      "    assisttracker\n",
      "    boxscoreadvancedv2\n",
      "    boxscoreadvancedv3\n",
      "    boxscoredefensivev2\n",
      "    boxscorefourfactorsv2\n",
      "    boxscorefourfactorsv3\n",
      "    boxscorehustlev2\n",
      "    boxscorematchupsv3\n",
      "    boxscoremiscv2\n",
      "    boxscoremiscv3\n",
      "    boxscoreplayertrackv2\n",
      "    boxscoreplayertrackv3\n",
      "    boxscorescoringv2\n",
      "    boxscorescoringv3\n",
      "    boxscoresummaryv2\n",
      "    boxscoretraditionalv2\n",
      "    boxscoretraditionalv3\n",
      "    boxscoreusagev2\n",
      "    boxscoreusagev3\n",
      "    commonallplayers\n",
      "    commonplayerinfo\n",
      "    commonplayoffseries\n",
      "    commonteamroster\n",
      "    commonteamyears\n",
      "    cumestatsplayer\n",
      "    cumestatsplayergames\n",
      "    cumestatsteam\n",
      "    cumestatsteamgames\n",
      "    defensehub\n",
      "    draftboard\n",
      "    draftcombinedrillresults\n",
      "    draftcombinenonstationaryshooting\n",
      "    draftcombineplayeranthro\n",
      "    draftcombinespotshooting\n",
      "    draftcombinestats\n",
      "    drafthistory\n",
      "    fantasywidget\n",
      "    franchisehistory\n",
      "    franchiseleaders\n",
      "    franchiseplayers\n",
      "    gamerotation\n",
      "    glalumboxscoresimilarityscore\n",
      "    homepageleaders\n",
      "    homepagev2\n",
      "    hustlestatsboxscore\n",
      "    infographicfanduelplayer\n",
      "    iststandings\n",
      "    leaderstiles\n",
      "    leaguedashlineups\n",
      "    leaguedashoppptshot\n",
      "    leaguedashplayerbiostats\n",
      "    leaguedashplayerclutch\n",
      "    leaguedashplayerptshot\n",
      "    leaguedashplayershotlocations\n",
      "    leaguedashplayerstats\n",
      "    leaguedashptdefend\n",
      "    leaguedashptstats\n",
      "    leaguedashptteamdefend\n",
      "    leaguedashteamclutch\n",
      "    leaguedashteamptshot\n",
      "    leaguedashteamshotlocations\n",
      "    leaguedashteamstats\n",
      "    leaguegamefinder\n",
      "    leaguegamelog\n",
      "    leaguehustlestatsplayer\n",
      "    leaguehustlestatsteam\n",
      "    leagueleaders\n",
      "    leaguelineupviz\n",
      "    leagueplayerondetails\n",
      "    leagueseasonmatchups\n",
      "    leaguestandings\n",
      "    leaguestandingsv3\n",
      "    matchupsrollup\n",
      "    playbyplay\n",
      "    playbyplayv2\n",
      "    playbyplayv3\n",
      "    playerawards\n",
      "    playercareerbycollege\n",
      "    playercareerbycollegerollup\n",
      "    playercareerstats\n",
      "    playercompare\n",
      "    playerdashboardbyclutch\n",
      "    playerdashboardbygamesplits\n",
      "    playerdashboardbygeneralsplits\n",
      "    playerdashboardbylastngames\n",
      "    playerdashboardbyshootingsplits\n",
      "    playerdashboardbyteamperformance\n",
      "    playerdashboardbyyearoveryear\n",
      "    playerdashptpass\n",
      "    playerdashptreb\n",
      "    playerdashptshotdefend\n",
      "    playerdashptshots\n",
      "    playerestimatedmetrics\n",
      "    playerfantasyprofile\n",
      "    playerfantasyprofilebargraph\n",
      "    playergamelog\n",
      "    playergamelogs\n",
      "    playergamestreakfinder\n",
      "    playerindex\n",
      "    playernextngames\n",
      "    playerprofilev2\n",
      "    playervsplayer\n",
      "    playoffpicture\n",
      "    scoreboardv2\n",
      "    shotchartdetail\n",
      "    shotchartleaguewide\n",
      "    shotchartlineupdetail\n",
      "    synergyplaytypes\n",
      "    teamandplayersvsplayers\n",
      "    teamdashboardbygeneralsplits\n",
      "    teamdashboardbyshootingsplits\n",
      "    teamdashlineups\n",
      "    teamdashptpass\n",
      "    teamdashptreb\n",
      "    teamdashptshots\n",
      "    teamdetails\n",
      "    teamestimatedmetrics\n",
      "    teamgamelog\n",
      "    teamgamelogs\n",
      "    teamgamestreakfinder\n",
      "    teamhistoricalleaders\n",
      "    teaminfocommon\n",
      "    teamplayerdashboard\n",
      "    teamplayeronoffdetails\n",
      "    teamplayeronoffsummary\n",
      "    teamvsplayer\n",
      "    teamyearbyyearstats\n",
      "    videodetails\n",
      "    videodetailsasset\n",
      "    videoevents\n",
      "    videoeventsasset\n",
      "    videostatus\n",
      "    winprobabilitypbp\n",
      "\n",
      "DATA\n",
      "    __all__ = ['alltimeleadersgrids', 'assistleaders', 'assisttracker', 'b...\n",
      "\n",
      "FILE\n",
      "    c:\\users\\lons886\\appdata\\roaming\\python\\python311\\site-packages\\nba_api\\stats\\endpoints\\__init__.py\n",
      "\n",
      "\n"
     ]
    }
   ],
   "source": [
    "help(nba_api.stats.endpoints)"
   ]
  },
  {
   "cell_type": "markdown",
   "id": "c1fa28c0-15c9-4958-a61a-8d386a308ed9",
   "metadata": {},
   "source": [
    "## $\\bf{All\\space time\\space leaders}$ endpoint"
   ]
  },
  {
   "cell_type": "code",
   "execution_count": 4,
   "id": "bfbd7629-2899-490e-9b49-112119eb662c",
   "metadata": {
    "tags": []
   },
   "outputs": [],
   "source": [
    "import nba_api.stats.endpoints.alltimeleadersgrids as atlg"
   ]
  },
  {
   "cell_type": "code",
   "execution_count": 5,
   "id": "77a8f661-f7a4-4446-9b10-1f52adce855e",
   "metadata": {
    "tags": []
   },
   "outputs": [],
   "source": [
    "# Request endpoint and get data into a large dictionary\n",
    "allTimes = atlg.AllTimeLeadersGrids()\n",
    "data = allTimes.get_dict()"
   ]
  },
  {
   "cell_type": "code",
   "execution_count": 6,
   "id": "4d31ec9a-cd5f-4c54-8b7f-74a514b33c6d",
   "metadata": {
    "tags": []
   },
   "outputs": [
    {
     "name": "stdout",
     "output_type": "stream",
     "text": [
      "0 GPLeaders\n",
      "1 PTSLeaders\n",
      "2 ASTLeaders\n",
      "3 STLLeaders\n",
      "4 OREBLeaders\n",
      "5 DREBLeaders\n",
      "6 REBLeaders\n",
      "7 BLKLeaders\n",
      "8 FGMLeaders\n",
      "9 FGALeaders\n",
      "10 FG_PCTLeaders\n",
      "11 TOVLeaders\n",
      "12 FG3MLeaders\n",
      "13 FG3ALeaders\n",
      "14 FG3_PCTLeaders\n",
      "15 PFLeaders\n",
      "16 FTMLeaders\n",
      "17 FTALeaders\n",
      "18 FT_PCTLeaders\n"
     ]
    }
   ],
   "source": [
    "# Print categories of leaders\n",
    "allTimeDicts = data[\"resultSets\"]\n",
    "for i, d in enumerate(allTimeDicts):\n",
    "    print(i, d[\"name\"])"
   ]
  },
  {
   "cell_type": "code",
   "execution_count": 7,
   "id": "74ab79c2-b44e-4200-a2ad-684059be882d",
   "metadata": {
    "tags": []
   },
   "outputs": [
    {
     "data": {
      "text/plain": [
       "{'name': 'PTSLeaders',\n",
       " 'headers': ['PLAYER_ID', 'PLAYER_NAME', 'PTS', 'PTS_RANK', 'IS_ACTIVE_FLAG'],\n",
       " 'rowSet': [[2544, 'LeBron James', 41995, 1, 'Y'],\n",
       "  [76003, 'Kareem Abdul-Jabbar', 38387, 2, 'N'],\n",
       "  [252, 'Karl Malone', 36928, 3, 'N'],\n",
       "  [977, 'Kobe Bryant', 33643, 4, 'N'],\n",
       "  [893, 'Michael Jordan', 32292, 5, 'N'],\n",
       "  [1717, 'Dirk Nowitzki', 31560, 6, 'N'],\n",
       "  [76375, 'Wilt Chamberlain', 31419, 7, 'N'],\n",
       "  [201142, 'Kevin Durant', 30537, 8, 'Y'],\n",
       "  [406, \"Shaquille O'Neal\", 28596, 9, 'N'],\n",
       "  [2546, 'Carmelo Anthony', 28289, 10, 'N']]}"
      ]
     },
     "execution_count": 7,
     "metadata": {},
     "output_type": "execute_result"
    }
   ],
   "source": [
    "# Points scored\n",
    "pointsLeadersIDs = [l[0] for l in allTimeDicts[1][\"rowSet\"]]\n",
    "\n",
    "allTimeDicts[1]"
   ]
  },
  {
   "cell_type": "code",
   "execution_count": 8,
   "id": "3ff4246f-2003-41dc-9fd6-e095e22f772d",
   "metadata": {
    "tags": []
   },
   "outputs": [
    {
     "data": {
      "text/plain": [
       "{'name': 'ASTLeaders',\n",
       " 'headers': ['PLAYER_ID', 'PLAYER_NAME', 'AST', 'AST_RANK', 'IS_ACTIVE_FLAG'],\n",
       " 'rowSet': [[304, 'John Stockton', 15806, 1, 'N'],\n",
       "  [101108, 'Chris Paul', 12444, 2, 'Y'],\n",
       "  [467, 'Jason Kidd', 12091, 3, 'N'],\n",
       "  [2544, 'LeBron James', 11534, 4, 'Y'],\n",
       "  [959, 'Steve Nash', 10335, 5, 'N'],\n",
       "  [349, 'Mark Jackson', 10334, 6, 'N'],\n",
       "  [77142, 'Magic Johnson', 10141, 7, 'N'],\n",
       "  [600015, 'Oscar Robertson', 9887, 8, 'N'],\n",
       "  [201566, 'Russell Westbrook', 9885, 9, 'Y'],\n",
       "  [78318, 'Isiah Thomas', 9061, 10, 'N']]}"
      ]
     },
     "execution_count": 8,
     "metadata": {},
     "output_type": "execute_result"
    }
   ],
   "source": [
    "# Assists made\n",
    "assistsLeadersIDs = [l[0] for l in allTimeDicts[2][\"rowSet\"]]\n",
    "\n",
    "allTimeDicts[2]"
   ]
  },
  {
   "cell_type": "code",
   "execution_count": 9,
   "id": "4e6b90b0-e196-4c78-8d7f-35d449a3a4ca",
   "metadata": {
    "tags": []
   },
   "outputs": [],
   "source": [
    "# Merge lists and remove duplicates\n",
    "leaderIDs = list(set(assistsLeadersIDs + pointsLeadersIDs))"
   ]
  },
  {
   "cell_type": "code",
   "execution_count": 10,
   "id": "722dc717-2e6c-4ef5-8efc-da29fa1599c5",
   "metadata": {
    "tags": []
   },
   "outputs": [
    {
     "data": {
      "text/plain": [
       "{'name': 'REBLeaders',\n",
       " 'headers': ['PLAYER_ID', 'PLAYER_NAME', 'REB', 'REB_RANK', 'IS_ACTIVE_FLAG'],\n",
       " 'rowSet': [[76375, 'Wilt Chamberlain', 23924, 1, 'N'],\n",
       "  [78049, 'Bill Russell', 21620, 2, 'N'],\n",
       "  [76003, 'Kareem Abdul-Jabbar', 17440, 3, 'N'],\n",
       "  [76979, 'Elvin Hayes', 16279, 4, 'N'],\n",
       "  [77449, 'Moses Malone', 16212, 5, 'N'],\n",
       "  [1495, 'Tim Duncan', 15091, 6, 'N'],\n",
       "  [252, 'Karl Malone', 14968, 7, 'N'],\n",
       "  [305, 'Robert Parish', 14715, 8, 'N'],\n",
       "  [708, 'Kevin Garnett', 14662, 9, 'N'],\n",
       "  [2730, 'Dwight Howard', 14627, 10, 'N']]}"
      ]
     },
     "execution_count": 10,
     "metadata": {},
     "output_type": "execute_result"
    }
   ],
   "source": [
    "# Rebound leaders\n",
    "allTimeDicts[6]"
   ]
  },
  {
   "cell_type": "code",
   "execution_count": 11,
   "id": "9350d298-806b-4f7e-acc7-9683af01052e",
   "metadata": {
    "tags": []
   },
   "outputs": [
    {
     "data": {
      "text/plain": [
       "{'name': 'FGMLeaders',\n",
       " 'headers': ['PLAYER_ID', 'PLAYER_NAME', 'FGM', 'FGM_RANK', 'IS_ACTIVE_FLAG'],\n",
       " 'rowSet': [[76003, 'Kareem Abdul-Jabbar', 15837, 1, 'N'],\n",
       "  [2544, 'LeBron James', 15420, 2, 'Y'],\n",
       "  [252, 'Karl Malone', 13528, 3, 'N'],\n",
       "  [76375, 'Wilt Chamberlain', 12681, 4, 'N'],\n",
       "  [893, 'Michael Jordan', 12192, 5, 'N'],\n",
       "  [977, 'Kobe Bryant', 11719, 6, 'N'],\n",
       "  [406, \"Shaquille O'Neal\", 11330, 7, 'N'],\n",
       "  [1717, 'Dirk Nowitzki', 11169, 8, 'N'],\n",
       "  [76979, 'Elvin Hayes', 10976, 9, 'N'],\n",
       "  [165, 'Hakeem Olajuwon', 10749, 10, 'N']]}"
      ]
     },
     "execution_count": 11,
     "metadata": {},
     "output_type": "execute_result"
    }
   ],
   "source": [
    "# Field goals made leaders\n",
    "allTimeDicts[8]"
   ]
  },
  {
   "cell_type": "markdown",
   "id": "cdf7cc47-5b61-48d3-9a94-194d6bcb3d1e",
   "metadata": {},
   "source": [
    "## Use $\\bf{common\\space all\\space players}$ endpoint to get IDs of all active players"
   ]
  },
  {
   "cell_type": "code",
   "execution_count": 12,
   "id": "ff6b2e4f-2b66-4795-b5b2-be602fb73cc3",
   "metadata": {},
   "outputs": [],
   "source": [
    "from nba_api.stats.endpoints import commonallplayers as cap"
   ]
  },
  {
   "cell_type": "code",
   "execution_count": 13,
   "id": "fc44c95f-21f1-47cd-a8a1-c48641ce235d",
   "metadata": {
    "tags": []
   },
   "outputs": [],
   "source": [
    "allPlayers = cap.CommonAllPlayers()\n",
    "data = allPlayers.get_dict()"
   ]
  },
  {
   "cell_type": "code",
   "execution_count": 14,
   "id": "b6d8614c-531c-47aa-ac16-4f68511b978d",
   "metadata": {
    "tags": []
   },
   "outputs": [],
   "source": [
    "activePlayerIDs = []\n",
    "allPlayers = data[\"resultSets\"][0]\n",
    "for i, playerRow in enumerate(allPlayers[\"rowSet\"]):\n",
    "    \n",
    "    # Check that they're active\n",
    "    if playerRow[5] == \"2024\":\n",
    "        # print(i, playerRow)\n",
    "        activePlayerIDs.append(playerRow[0])"
   ]
  },
  {
   "cell_type": "code",
   "execution_count": 15,
   "id": "852ad79d-fe59-4a58-9242-8206fc943578",
   "metadata": {
    "tags": []
   },
   "outputs": [
    {
     "data": {
      "text/plain": [
       "19"
      ]
     },
     "execution_count": 15,
     "metadata": {},
     "output_type": "execute_result"
    }
   ],
   "source": [
    "# Remove players IDs from activePlayerIDs if they're in leadersIDs\n",
    "activePlayerIDs2 = list(set(activePlayerIDs) - set(leaderIDs))\n",
    "len(leaderIDs)"
   ]
  },
  {
   "cell_type": "code",
   "execution_count": null,
   "id": "88c400ea-59ff-4392-9234-18d0ffa31693",
   "metadata": {
    "tags": []
   },
   "outputs": [],
   "source": []
  },
  {
   "cell_type": "markdown",
   "id": "030eaeb2-7d02-427e-b2e8-c65985531dbf",
   "metadata": {},
   "source": [
    "## Now that I have two lists: `activePlayerIDs2` and  `leaderIDs`, I can see if there are groupings based on points versus assists using $\\bf{player\\space career\\space stats}$ endpoint."
   ]
  },
  {
   "cell_type": "code",
   "execution_count": null,
   "id": "cb3ee192-7d9b-4fba-8d6b-fb15322ae8da",
   "metadata": {
    "tags": []
   },
   "outputs": [],
   "source": [
    "# Get minutes, points, assists of all in the leadersIDs list\n",
    "minutesPointsAssistsLeaders = []\n",
    "for i, ID in enumerate(leaderIDs):\n",
    "    career = playercareerstats.PlayerCareerStats(player_id=ID) \n",
    "    careerDF = career.get_data_frames()[0]\n",
    "    minutesPointsAssistsLeaders.append(careerDF[[\"MIN\", \"PTS\", \"AST\"]].sum().to_numpy())\n",
    "    time.sleep(10)\n",
    "    print(i)\n"
   ]
  },
  {
   "cell_type": "code",
   "execution_count": 27,
   "id": "a2c73811-1e2c-4e31-a88b-fe3ff602721e",
   "metadata": {
    "tags": []
   },
   "outputs": [
    {
     "data": {
      "text/plain": [
       "1630590"
      ]
     },
     "execution_count": 27,
     "metadata": {},
     "output_type": "execute_result"
    }
   ],
   "source": [
    "ID"
   ]
  },
  {
   "cell_type": "code",
   "execution_count": null,
   "id": "3e54d0aa-32b7-4f21-b886-b5cb614a8f17",
   "metadata": {
    "tags": []
   },
   "outputs": [],
   "source": [
    "# Get minutes, points, assists of all active players not in the leadersIDs list\n",
    "allPlayersSimple = players.get_players()\n",
    "\n",
    "for i, ID in enumerate(activePlayerIDs):\n",
    "    career = playercareerstats.PlayerCareerStats(player_id=ID) \n",
    "    dfCareer = career.get_data_frames()[0]\n",
    "    \n",
    "    # Get name of player with ID. If list is empty, pass and move on. \n",
    "    listName = [row[\"full_name\"] for row in allPlayersSimple if row[\"id\"] == ID]\n",
    "    if listName:\n",
    "        name = listName[0].replace(\" \", \"_\")\n",
    "        dfCareer.to_csv(f\"../data/playerCareerStats/{name}.csv\")\n",
    "        \n",
    "    time.sleep(5)\n",
    "\n"
   ]
  },
  {
   "cell_type": "code",
   "execution_count": 47,
   "id": "adaa847d-0ece-451f-bdbb-862d8476dcc8",
   "metadata": {
    "tags": []
   },
   "outputs": [],
   "source": [
    "minutesPointsAssists = []\n",
    "path = \"../data/playerCareerStats/\"\n",
    "for playerSheet in os.listdir(path):\n",
    "    \n",
    "    if playerSheet !=  \".ipynb_checkpoints\":\n",
    "        \n",
    "        dfCareer = pd.read_csv(os.path.join(path, playerSheet), usecols=['MIN', 'PTS', 'AST'])\n",
    "        minutesPointsAssists.append(dfCareer[[\"MIN\", \"PTS\", \"AST\"]].sum().to_numpy())\n"
   ]
  },
  {
   "cell_type": "code",
   "execution_count": 53,
   "id": "01153331-8f44-4230-a943-e5329009b253",
   "metadata": {
    "tags": []
   },
   "outputs": [
    {
     "data": {
      "image/png": "[encoded data removed]",
      "text/plain": [
       "<Figure size 640x480 with 1 Axes>"
      ]
     },
     "metadata": {},
     "output_type": "display_data"
    }
   ],
   "source": [
    "# Get points and assists from top 10% of non leaders\n",
    "minutes = [sublist[0] for sublist in minutesPointsAssists]\n",
    "threshold = np.percentile(minutes, 95)\n",
    "\n",
    "fig, ax = plt.subplots()\n",
    "ax.hist(minutes, bins=30)\n",
    "ax.axvline(threshold, color=\"k\", label=\"95th Percentile\")\n",
    "ax.legend(loc=\"best\")\n",
    "tidy_axes(ax)\n",
    "\n",
    "ax.set_xlabel(\"Minutes Played in Career\", fontsize=14)\n",
    "ax.set_title(\"All Active Players Not in Top 10 Points or Assists\", fontsize=16)\n",
    "fig.set_facecolor(facecolor)\n",
    "ax.set_facecolor(facecolor)\n",
    "plt.savefig(\"../images/minutes_played_all_players.png\")"
   ]
  },
  {
   "cell_type": "code",
   "execution_count": 54,
   "id": "bea2c49e-6fd6-42cf-823b-b3a4ca66a12a",
   "metadata": {
    "tags": []
   },
   "outputs": [
    {
     "data": {
      "image/png": "[encoded data removed]",
      "text/plain": [
       "<Figure size 640x480 with 1 Axes>"
      ]
     },
     "metadata": {},
     "output_type": "display_data"
    }
   ],
   "source": [
    "\n",
    "\n",
    "top10 = np.array([sublist for sublist in minutesPointsAssists if sublist[0] > threshold])\n",
    "leaders = np.array(minutesPointsAssistsLeaders)\n",
    "fig, ax = plt.subplots()\n",
    "\n",
    "ax.scatter(top10[:,1], top10[:,2], label=\"Non-Leader\")\n",
    "ax.scatter(leaders[:,1], leaders[:,2], label=\"Leader\")\n",
    "tidy_axes(ax)\n",
    "\n",
    "ax.set_xlabel(\"Points\", fontsize=labelsize)\n",
    "ax.set_ylabel(\"Assists\", fontsize=labelsize)\n",
    "ax.set_title(\"Leaders vs. Non Leaders. Not too big of a gap.\", fontsize=titlesize)\n",
    "fig.set_facecolor(facecolor)\n",
    "ax.set_facecolor(facecolor)\n",
    "plt.savefig(\"../images/pts_asts_scatter.png\")\n",
    "plt.show()"
   ]
  },
  {
   "cell_type": "code",
   "execution_count": 55,
   "id": "ece976fe-17d1-43cf-a3b8-9306cdaebe6b",
   "metadata": {
    "tags": []
   },
   "outputs": [],
   "source": [
    "pointsArray = np.concatenate((top10[:,1], leaders[:,1]))\n",
    "assistsArray = np.concatenate((top10[:,2], leaders[:,2]))\n",
    "\n",
    "ptsAsts = pd.DataFrame(np.array([pointsArray, assistsArray]).T, columns=[\"Points\", \"Assists\"])\n",
    "\n",
    "# Normalize it\n",
    "scaler = StandardScaler()\n",
    "ptsAsts = pd.DataFrame(scaler.fit_transform(ptsAsts), columns=ptsAsts.columns)\n"
   ]
  },
  {
   "cell_type": "code",
   "execution_count": 56,
   "id": "5d6b2621-1a0f-4645-a64f-a246a2f6b173",
   "metadata": {
    "tags": []
   },
   "outputs": [
    {
     "data": {
      "image/png": "[encoded data removed]",
      "text/plain": [
       "<Figure size 640x480 with 1 Axes>"
      ]
     },
     "metadata": {},
     "output_type": "display_data"
    }
   ],
   "source": [
    "fig, ax = plt.subplots()\n",
    "\n",
    "\n",
    "kmeans = KMeans(n_clusters=2)\n",
    "kmeans.fit(ptsAsts)\n",
    "\n",
    "ax.scatter(ptsAsts[\"Points\"], ptsAsts[\"Assists\"], c=kmeans.labels_)\n",
    "\n",
    "tidy_axes(ax)\n",
    "ax.set_title(\"KMeans Clustering of Assists vs. Points\", fontsize=titlesize)\n",
    "ax.set_xlabel(\"Points\", fontsize=14)\n",
    "ax.set_ylabel(\"Assists\", fontsize=14)\n",
    "fig.set_facecolor(facecolor)\n",
    "ax.set_facecolor(facecolor)\n",
    "plt.savefig(\"../images/kmeans.png\")\n",
    "plt.show()"
   ]
  },
  {
   "cell_type": "code",
   "execution_count": null,
   "id": "736a49e0-2853-4eb6-b52e-1c826b72fc40",
   "metadata": {},
   "outputs": [],
   "source": []
  }
 ],
 "metadata": {
  "kernelspec": {
   "display_name": "Python 3 (ipykernel)",
   "language": "python",
   "name": "python3"
  },
  "language_info": {
   "codemirror_mode": {
    "name": "ipython",
    "version": 3
   },
   "file_extension": ".py",
   "mimetype": "text/x-python",
   "name": "python",
   "nbconvert_exporter": "python",
   "pygments_lexer": "ipython3",
   "version": "3.11.3"
  }
 },
 "nbformat": 4,
 "nbformat_minor": 5
}
